{
 "cells": [
  {
   "cell_type": "markdown",
   "metadata": {},
   "source": [
    "sudo apt-get update      Sistemi güncelliyor\n",
    "sudo --help              Help ile komutun yetemklerini  ögreniyoruz\n",
    "\n",
    "----------------------------------------------\n",
    "pwd                 bulunduğun konum\n",
    "explorer.exe .      windows ta bulunduğu klasörü açar\n",
    "ls                  klasördeki kullanıcının oluşturduğu klasor/dosya vb.\n",
    "ls -a               tum dosya ve klasörler\n",
    "ls -l\t\t        kulanıcının oluşturduğu klasor/dosya ayrıntılar\n",
    "ls -al              klasor/dosya tumu ve ayrıntıları\n",
    "cd                  klasorAdi  klasor degiştirme\n",
    "cd ..\t\t        bir üst klasöre geçme\n",
    "cd ~\t\t        home klasörüne geçiş\n",
    "cd /\t\t        root klasörüne geçiş\n",
    "mkdir               Dos1  klasör oluşturma\n",
    "mkdir               Dos1 Dos2        birden fazla klasor aynı anada oluşturma\t\n",
    "cd ./A/B1/C1        tek satırda birkaç klasor altına ulaşma\n",
    "cd A/B1/C1\n",
    "cd ../../\t\t    her iki nokta bir süt klasöre\n",
    "cd ../..\n",
    "touch  a.txt        dosya olustur\n",
    "echo \"lynn\">a.txt   bu sekilde eklyebilirizz\n",
    "cat a.txt           ciktiyi ekrana basiyor\n",
    "cat > a.txt         ekranda dosya icerigini düzenliyoruz. Icindekileri siliyor\n",
    "cat >> a.txt        ekranda dosya icerigini düzenliyoruz. Icindekiler kaliyor üzerine\n",
    "head a.txt          metni yukaridan ekrana yazar\n",
    "head -n 4 a.txt     metni yukaridan 4 karakter ekrana yazar\n",
    "tail a.txt          metni asagidan ekrana yazar\n",
    "tail -n 71 a.txt    metni asagidan 71 karakter ekrana yazar\n",
    "\n",
    "\n",
    "rm a.txt            dosya sil\n",
    "rmdir A             klasör sil\n",
    "rm -r  A            icinden baska dosya olan klasörü silme\n",
    "cp a.txt A/a.txt    Baska hedefe dosya kopyalama veya ad degistirme\n",
    "cp -r a.txt A/a.txt Baska hedefe alt dosyalari ile kopyalama\n",
    "mv --help           Komutlarla ilgili bilgileri böyle ögrenebiliriz\n",
    "find -name a1.txt   Istedigimiz dosyayi böyle buluruz\n",
    "-------------- DOSYADAKI YETKI ACIKLAMASI ------------------------\n",
    "\n",
    "drwxr-xr-x\n",
    "d                 --> Tahminimce sistemi gösteriyor\n",
    "  rwx            -->  User yani kullaniciya nasil ytkiler verdigini gösteroiyor\n",
    "        r-x       -->  Tanimli gruplara nasil yetkiler verdigi\n",
    "             r-x  -->  Bu veriye ulasan herhangi birine nasil yetkiler verdigi\n",
    "\n",
    "rwx == 1110 == 4210\n",
    "r = 4      -->  okuma yetkisi\n",
    "w = 2     -->  yazma yetkisi\n",
    "x = 1      -->  uygulama yetkisi\n",
    "- = 0      -->  \n",
    "\n",
    "mesela  \n",
    "chmod 750  a     -- >  dedigimizde \n",
    "7 = 4+2+1 = rwx\n",
    "5 = 4+0+1 = r-w\n",
    "0 = 0+0+0 = ---\n",
    "yani verecegi komut    (     drwxr-w---   )    olur\n",
    "----------------------------------------------------------------------------\n",
    "\n",
    "\n",
    "latif@LAPTOP-9H4E3GFB:~$ alo=\"la bana bak bakimmm(\\)\"\n",
    "latif@LAPTOP-9H4E3GFB:~$ echo $alo\n",
    "la bana bak bakimmm(\\)"
   ]
  }
 ],
 "metadata": {
  "kernelspec": {
   "display_name": "Python 3.10.7 64-bit (microsoft store)",
   "language": "python",
   "name": "python3"
  },
  "language_info": {
   "name": "python",
   "version": "3.10.7"
  },
  "orig_nbformat": 4,
  "vscode": {
   "interpreter": {
    "hash": "ba33de22a5821ff61dd53097cd70511c2f19fae7b0f9e8b27ee69b6aca2c4956"
   }
  }
 },
 "nbformat": 4,
 "nbformat_minor": 2
}
