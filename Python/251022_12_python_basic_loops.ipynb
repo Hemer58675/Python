{
  "nbformat": 4,
  "nbformat_minor": 0,
  "metadata": {
    "colab": {
      "provenance": []
    },
    "kernelspec": {
      "name": "python3",
      "display_name": "Python 3"
    },
    "language_info": {
      "name": "python"
    }
  },
  "cells": [
    {
      "cell_type": "markdown",
      "source": [
        "## **LOOPS**"
      ],
      "metadata": {
        "id": "gG5It2Qj7d2X"
      }
    },
    {
      "cell_type": "code",
      "execution_count": 1,
      "metadata": {
        "colab": {
          "base_uri": "https://localhost:8080/"
        },
        "id": "wrhLTO_S7YO3",
        "outputId": "83974cd5-57f2-4917-a5c2-c44e7efcfc82"
      },
      "outputs": [
        {
          "output_type": "stream",
          "name": "stdout",
          "text": [
            "foo\n"
          ]
        }
      ],
      "source": [
        "if (1,2):\n",
        "    print('foo')"
      ]
    },
    {
      "cell_type": "code",
      "source": [
        "if(1,2): print('foo')"
      ],
      "metadata": {
        "colab": {
          "base_uri": "https://localhost:8080/"
        },
        "id": "SJOnzjW2Gmtu",
        "outputId": "dd75c54d-7230-46d7-d08b-628749248e78"
      },
      "execution_count": 18,
      "outputs": [
        {
          "output_type": "stream",
          "name": "stdout",
          "text": [
            "foo\n"
          ]
        }
      ]
    },
    {
      "cell_type": "code",
      "source": [
        "if (1,2):\n",
        "    print('foo')\n",
        "else:\n",
        "    print('baz')"
      ],
      "metadata": {
        "colab": {
          "base_uri": "https://localhost:8080/"
        },
        "id": "b-S3YXgGF4EI",
        "outputId": "0bcda962-1c52-4b25-b4bf-bb6561cffc1f"
      },
      "execution_count": 12,
      "outputs": [
        {
          "output_type": "stream",
          "name": "stdout",
          "text": [
            "foo\n"
          ]
        }
      ]
    },
    {
      "cell_type": "code",
      "source": [
        "if (1,2): print('foo') else: print('baz')"
      ],
      "metadata": {
        "colab": {
          "base_uri": "https://localhost:8080/",
          "height": 131
        },
        "id": "6h1XYrZABG1I",
        "outputId": "00cb4370-3700-4ef9-be71-0d8eea42b61c"
      },
      "execution_count": 13,
      "outputs": [
        {
          "output_type": "error",
          "ename": "SyntaxError",
          "evalue": "ignored",
          "traceback": [
            "\u001b[0;36m  File \u001b[0;32m\"<ipython-input-13-2c3fc2cb9517>\"\u001b[0;36m, line \u001b[0;32m1\u001b[0m\n\u001b[0;31m    if (1,2): print('foo') else: print('baz')\u001b[0m\n\u001b[0m                              ^\u001b[0m\n\u001b[0;31mSyntaxError\u001b[0m\u001b[0;31m:\u001b[0m invalid syntax\n"
          ]
        }
      ]
    },
    {
      "cell_type": "code",
      "source": [
        "print('foo' if(1,2) else 'baz')\n",
        "#print('True durumu' if(koşul) else 'False durumu')"
      ],
      "metadata": {
        "colab": {
          "base_uri": "https://localhost:8080/"
        },
        "id": "Pwz63ts6F_hK",
        "outputId": "c42ce401-16b1-4253-8cfb-e03b6a562708"
      },
      "execution_count": 17,
      "outputs": [
        {
          "output_type": "stream",
          "name": "stdout",
          "text": [
            "foo\n"
          ]
        }
      ]
    },
    {
      "cell_type": "code",
      "source": [
        "if (1,2):\n",
        "print('foo')"
      ],
      "metadata": {
        "colab": {
          "base_uri": "https://localhost:8080/",
          "height": 131
        },
        "id": "qW7XWrlKBKZg",
        "outputId": "de907230-2fd7-48df-fce3-9e8541f3a9de"
      },
      "execution_count": 3,
      "outputs": [
        {
          "output_type": "error",
          "ename": "IndentationError",
          "evalue": "ignored",
          "traceback": [
            "\u001b[0;36m  File \u001b[0;32m\"<ipython-input-3-96491c5191b2>\"\u001b[0;36m, line \u001b[0;32m2\u001b[0m\n\u001b[0;31m    print('foo')\u001b[0m\n\u001b[0m        ^\u001b[0m\n\u001b[0;31mIndentationError\u001b[0m\u001b[0;31m:\u001b[0m expected an indented block\n"
          ]
        }
      ]
    },
    {
      "cell_type": "code",
      "source": [
        "for i in \"bus\":\n",
        "    print(i, end='')"
      ],
      "metadata": {
        "colab": {
          "base_uri": "https://localhost:8080/"
        },
        "id": "aJsB_YNyCr3N",
        "outputId": "d495664d-9084-4613-e8b3-7cf0d9920319"
      },
      "execution_count": 4,
      "outputs": [
        {
          "output_type": "stream",
          "name": "stdout",
          "text": [
            "bus"
          ]
        }
      ]
    },
    {
      "cell_type": "code",
      "source": [
        "for i in \"bus\":\n",
        "    print(i, end=' ')"
      ],
      "metadata": {
        "colab": {
          "base_uri": "https://localhost:8080/"
        },
        "id": "XZ2CNz2tCxs_",
        "outputId": "bd359013-dfc5-47a7-cf34-7d99928705df"
      },
      "execution_count": 5,
      "outputs": [
        {
          "output_type": "stream",
          "name": "stdout",
          "text": [
            "b u s "
          ]
        }
      ]
    },
    {
      "cell_type": "code",
      "source": [
        "count = 0\n",
        "for i in [\"bus\"]:\n",
        "    count += 1\n",
        "    print(i, count, end=\"\")\n"
      ],
      "metadata": {
        "colab": {
          "base_uri": "https://localhost:8080/"
        },
        "id": "l00itooaDNYQ",
        "outputId": "1c7653e4-edb1-4f16-be33-6751ef6a6122"
      },
      "execution_count": 6,
      "outputs": [
        {
          "output_type": "stream",
          "name": "stdout",
          "text": [
            "bus 1"
          ]
        }
      ]
    },
    {
      "cell_type": "code",
      "source": [
        "count = 0\n",
        "for i in \"bus\":\n",
        "    count += 1\n",
        "    print(i, count, end=\"\")"
      ],
      "metadata": {
        "colab": {
          "base_uri": "https://localhost:8080/"
        },
        "id": "6sIvPn3wDe3j",
        "outputId": "4626e771-0bab-451d-b2da-25ea9d871626"
      },
      "execution_count": 7,
      "outputs": [
        {
          "output_type": "stream",
          "name": "stdout",
          "text": [
            "b 1u 2s 3"
          ]
        }
      ]
    },
    {
      "cell_type": "code",
      "source": [
        "count = 0\n",
        "for i in \"bus\":\n",
        "    count += 1\n",
        "    print(i, end=\"\")\n",
        "print(count)"
      ],
      "metadata": {
        "colab": {
          "base_uri": "https://localhost:8080/"
        },
        "id": "NeZVZQCjDjwu",
        "outputId": "254fce2f-2f5e-45ab-d4c7-27791e3ca553"
      },
      "execution_count": 8,
      "outputs": [
        {
          "output_type": "stream",
          "name": "stdout",
          "text": [
            "bus3\n"
          ]
        }
      ]
    },
    {
      "cell_type": "code",
      "source": [
        "a = ['foo', 'bar', 'baz', \"qux\", 'corge']\n",
        "while a:\n",
        "    if len(a)<3:\n",
        "        break  # a nın eleman sayısı 3 den küçük ise döngüyü kır /çık\n",
        "    print(a.pop(), end=\"\")  #a nın en sondaki elemanını kaldırır ve sildiği elemanı yazdırır\n",
        "\n",
        "print(\"Done.\")"
      ],
      "metadata": {
        "colab": {
          "base_uri": "https://localhost:8080/"
        },
        "id": "R8nk-FcrEPHv",
        "outputId": "674d17ad-1ef8-4400-ee55-b1a6c52fa29a"
      },
      "execution_count": 10,
      "outputs": [
        {
          "output_type": "stream",
          "name": "stdout",
          "text": [
            "corgequxbazDone.\n"
          ]
        }
      ]
    },
    {
      "cell_type": "code",
      "source": [
        "a = ['foo', 'bar', 'baz', \"qux\", 'corge']\n",
        "while a:\n",
        "    if len(a)<3:\n",
        "        break  # a nın eleman sayısı 3 den küçük ise döngüyü kır /çık\n",
        "    print(a.pop(), end=\"\")  #a nın en sondaki elemanını kaldırır ve sildiği elemanı yazdırır\n",
        "\n",
        "print(\"Done.\")\n",
        "print(a)"
      ],
      "metadata": {
        "colab": {
          "base_uri": "https://localhost:8080/"
        },
        "id": "A1dDFThcFFWI",
        "outputId": "bf8275ad-43fa-49cc-e2dc-2d1e1bd7c683"
      },
      "execution_count": 11,
      "outputs": [
        {
          "output_type": "stream",
          "name": "stdout",
          "text": [
            "corgequxbazDone.\n",
            "['foo', 'bar']\n"
          ]
        }
      ]
    },
    {
      "cell_type": "code",
      "source": [
        "print(\"I love you.\")\n",
        "print(\"I love you.\")\n",
        "print(\"I love you.\")\n",
        "print(\"I love you.\")\n",
        "print(\"I love you.\")\n",
        "print(\"I love you.\")"
      ],
      "metadata": {
        "id": "awkeJJNcJh53"
      },
      "execution_count": null,
      "outputs": []
    },
    {
      "cell_type": "code",
      "source": [
        "for i in range(6):\n",
        "    print(\"I love you.\")"
      ],
      "metadata": {
        "colab": {
          "base_uri": "https://localhost:8080/"
        },
        "id": "SKnX1_eXJlmT",
        "outputId": "408b45ea-bcd6-4266-ce03-cdcedd2b3023"
      },
      "execution_count": 20,
      "outputs": [
        {
          "output_type": "stream",
          "name": "stdout",
          "text": [
            "I love you.\n",
            "I love you.\n",
            "I love you.\n",
            "I love you.\n",
            "I love you.\n",
            "I love you.\n"
          ]
        }
      ]
    },
    {
      "cell_type": "code",
      "source": [
        "## for döngüsü bir iterable nesne istiyor\n",
        "times = int(input(\"Haydi söyle!!\"))\n",
        "for i in range(times):\n",
        "    print(\"I love you.\")"
      ],
      "metadata": {
        "colab": {
          "base_uri": "https://localhost:8080/"
        },
        "id": "k76v3fsHJLta",
        "outputId": "d3df38aa-0e1d-4014-99ae-4150e9434074"
      },
      "execution_count": 19,
      "outputs": [
        {
          "output_type": "stream",
          "name": "stdout",
          "text": [
            "Haydi söyle!!6\n",
            "I love you.\n",
            "I love you.\n",
            "I love you.\n",
            "I love you.\n",
            "I love you.\n",
            "I love you.\n"
          ]
        }
      ]
    },
    {
      "cell_type": "code",
      "source": [
        "t = 5\n",
        "for i in range(0,11):\n",
        "    print(f\"{t}*{i}=\", t*i)"
      ],
      "metadata": {
        "colab": {
          "base_uri": "https://localhost:8080/"
        },
        "id": "eDL4b4PfLXyg",
        "outputId": "9f069bdf-8891-48df-d498-2e32b9ff32b7"
      },
      "execution_count": 22,
      "outputs": [
        {
          "output_type": "stream",
          "name": "stdout",
          "text": [
            "5*0= 0\n",
            "5*1= 5\n",
            "5*2= 10\n",
            "5*3= 15\n",
            "5*4= 20\n",
            "5*5= 25\n",
            "5*6= 30\n",
            "5*7= 35\n",
            "5*8= 40\n",
            "5*9= 45\n",
            "5*10= 50\n"
          ]
        }
      ]
    },
    {
      "cell_type": "code",
      "source": [
        "n = int(input('lutfen bes sayisini girin : '))\n",
        "for i in range(11):\n",
        "    print('{}x{} = '.format(n, i), n*i)"
      ],
      "metadata": {
        "colab": {
          "base_uri": "https://localhost:8080/"
        },
        "id": "QzYjHQ6XLdoo",
        "outputId": "b90671b1-ec43-45aa-c022-77ed2dff7f0f"
      },
      "execution_count": 21,
      "outputs": [
        {
          "output_type": "stream",
          "name": "stdout",
          "text": [
            "lutfen bes sayisini girin : 5\n",
            "5x0 =  0\n",
            "5x1 =  5\n",
            "5x2 =  10\n",
            "5x3 =  15\n",
            "5x4 =  20\n",
            "5x5 =  25\n",
            "5x6 =  30\n",
            "5x7 =  35\n",
            "5x8 =  40\n",
            "5x9 =  45\n",
            "5x10 =  50\n"
          ]
        }
      ]
    },
    {
      "cell_type": "code",
      "source": [
        "type(range(11))"
      ],
      "metadata": {
        "colab": {
          "base_uri": "https://localhost:8080/"
        },
        "id": "ExSPS1KuMGoL",
        "outputId": "f1f7198e-87a2-44f0-9f57-9d216eb3701f"
      },
      "execution_count": 24,
      "outputs": [
        {
          "output_type": "execute_result",
          "data": {
            "text/plain": [
              "range"
            ]
          },
          "metadata": {},
          "execution_count": 24
        }
      ]
    },
    {
      "cell_type": "code",
      "source": [
        "a_listesi = list(range(11))  #liste üreteci\n",
        "print(a_listesi)"
      ],
      "metadata": {
        "colab": {
          "base_uri": "https://localhost:8080/"
        },
        "id": "jq4BBfnUMMOu",
        "outputId": "81204032-c564-433e-89a4-d78e6122611c"
      },
      "execution_count": 26,
      "outputs": [
        {
          "output_type": "stream",
          "name": "stdout",
          "text": [
            "[0, 1, 2, 3, 4, 5, 6, 7, 8, 9, 10]\n"
          ]
        }
      ]
    },
    {
      "cell_type": "code",
      "source": [
        "a_kumesi = set(range(11))  #küme üreteci\n",
        "print(a_kumesi)"
      ],
      "metadata": {
        "colab": {
          "base_uri": "https://localhost:8080/"
        },
        "id": "I7GyLScJMe3M",
        "outputId": "6c978a5a-030b-4b1e-9a60-4bf5034700ca"
      },
      "execution_count": 27,
      "outputs": [
        {
          "output_type": "stream",
          "name": "stdout",
          "text": [
            "{0, 1, 2, 3, 4, 5, 6, 7, 8, 9, 10}\n"
          ]
        }
      ]
    },
    {
      "cell_type": "code",
      "source": [
        "a_demeti = tuple(range(11))  #tuple üreteci\n",
        "print(a_demeti)"
      ],
      "metadata": {
        "colab": {
          "base_uri": "https://localhost:8080/"
        },
        "id": "n5gOjyOXMs3G",
        "outputId": "a00cd955-91a8-4022-d144-bb1d82978d17"
      },
      "execution_count": 28,
      "outputs": [
        {
          "output_type": "stream",
          "name": "stdout",
          "text": [
            "(0, 1, 2, 3, 4, 5, 6, 7, 8, 9, 10)\n"
          ]
        }
      ]
    },
    {
      "cell_type": "code",
      "source": [
        "import sys\n",
        "print(sys.getsizeof(a_listesi))\n",
        "print(sys.getsizeof(a_demeti))  # tuple yapısı, liste göre daha az bellekte yer kaplıyor"
      ],
      "metadata": {
        "colab": {
          "base_uri": "https://localhost:8080/"
        },
        "id": "ZaOyr26KM4_K",
        "outputId": "256e06d7-a792-45c8-e1ab-a486a3cb1e90"
      },
      "execution_count": 29,
      "outputs": [
        {
          "output_type": "stream",
          "name": "stdout",
          "text": [
            "216\n",
            "144\n"
          ]
        }
      ]
    },
    {
      "cell_type": "code",
      "source": [
        "print(range(0,5))\n",
        "print(*range(0,5))"
      ],
      "metadata": {
        "colab": {
          "base_uri": "https://localhost:8080/"
        },
        "id": "2Xky4HmXNoqD",
        "outputId": "3284deef-7a1d-4b20-a900-799f168d0402"
      },
      "execution_count": 31,
      "outputs": [
        {
          "output_type": "stream",
          "name": "stdout",
          "text": [
            "range(0, 5)\n",
            "0 1 2 3 4\n"
          ]
        }
      ]
    },
    {
      "cell_type": "code",
      "source": [
        "a = range(0,5)\n",
        "print(a)"
      ],
      "metadata": {
        "colab": {
          "base_uri": "https://localhost:8080/"
        },
        "id": "J4fRXr0-N36Z",
        "outputId": "81cb8afc-11f1-4537-8eb8-9fe19e4c5ac6"
      },
      "execution_count": 33,
      "outputs": [
        {
          "output_type": "stream",
          "name": "stdout",
          "text": [
            "range(0, 5)\n"
          ]
        }
      ]
    },
    {
      "cell_type": "code",
      "source": [
        "b0 = print(a)\n",
        "b1 = a\n",
        "print(b0)   #None çıktısı verdi\n",
        "print(b1)"
      ],
      "metadata": {
        "colab": {
          "base_uri": "https://localhost:8080/"
        },
        "id": "JJqCMXxjOJb9",
        "outputId": "0dad1bc4-2c46-493d-9738-2669c90dbeb6"
      },
      "execution_count": 36,
      "outputs": [
        {
          "output_type": "stream",
          "name": "stdout",
          "text": [
            "range(0, 5)\n",
            "None\n",
            "range(0, 5)\n"
          ]
        }
      ]
    },
    {
      "cell_type": "code",
      "source": [
        "a = *range(0,5) #sadece print ile ekrana basılır..."
      ],
      "metadata": {
        "colab": {
          "base_uri": "https://localhost:8080/",
          "height": 97
        },
        "id": "jERvFDOQNv9Q",
        "outputId": "0f0072fc-0cc9-4e77-924c-4fd4b6099aa5"
      },
      "execution_count": 32,
      "outputs": [
        {
          "output_type": "error",
          "ename": "SyntaxError",
          "evalue": "ignored",
          "traceback": [
            "\u001b[0;36m  File \u001b[0;32m\"<ipython-input-32-a8a31baf0f17>\"\u001b[0;36m, line \u001b[0;32m4\u001b[0m\n\u001b[0;31mSyntaxError\u001b[0m\u001b[0;31m:\u001b[0m can't use starred expression here\n"
          ]
        }
      ]
    },
    {
      "cell_type": "code",
      "source": [
        "print(*range(5,25,2))"
      ],
      "metadata": {
        "colab": {
          "base_uri": "https://localhost:8080/"
        },
        "id": "VSfIV4I1Ofev",
        "outputId": "9e831c88-3ac2-4d9b-a7c4-74609b1456be"
      },
      "execution_count": 37,
      "outputs": [
        {
          "output_type": "stream",
          "name": "stdout",
          "text": [
            "5 7 9 11 13 15 17 19 21 23\n"
          ]
        }
      ]
    },
    {
      "cell_type": "code",
      "source": [
        "print(*'seperate')"
      ],
      "metadata": {
        "colab": {
          "base_uri": "https://localhost:8080/"
        },
        "id": "Em4OQMStOpFv",
        "outputId": "098c1560-d508-450e-943c-a0953952c4cd"
      },
      "execution_count": 38,
      "outputs": [
        {
          "output_type": "stream",
          "name": "stdout",
          "text": [
            "s e p e r a t e\n"
          ]
        }
      ]
    },
    {
      "cell_type": "code",
      "source": [
        "print(*('seperate')) # str yi ayrıştırdı"
      ],
      "metadata": {
        "colab": {
          "base_uri": "https://localhost:8080/"
        },
        "id": "G-UfVYzQOtgT",
        "outputId": "6124cdb2-f168-4be2-f0bb-bcc8a098d6fa"
      },
      "execution_count": 39,
      "outputs": [
        {
          "output_type": "stream",
          "name": "stdout",
          "text": [
            "s e p e r a t e\n"
          ]
        }
      ]
    },
    {
      "cell_type": "code",
      "source": [
        "print(*('seperate',))  #tuple parantezini kaldırır"
      ],
      "metadata": {
        "colab": {
          "base_uri": "https://localhost:8080/"
        },
        "id": "7i950ijFOyoc",
        "outputId": "a24b4b1a-e3da-4657-fb98-9a5567552227"
      },
      "execution_count": 40,
      "outputs": [
        {
          "output_type": "stream",
          "name": "stdout",
          "text": [
            "seperate\n"
          ]
        }
      ]
    },
    {
      "cell_type": "code",
      "source": [
        "print(type(('seperate',)))"
      ],
      "metadata": {
        "colab": {
          "base_uri": "https://localhost:8080/"
        },
        "id": "BXT8Dz1PPfvu",
        "outputId": "ec7f0e24-f423-4a80-ebf0-a2f53a5fab77"
      },
      "execution_count": 45,
      "outputs": [
        {
          "output_type": "stream",
          "name": "stdout",
          "text": [
            "<class 'tuple'>\n"
          ]
        }
      ]
    },
    {
      "cell_type": "code",
      "source": [
        "a_str = ('seperate',)\n",
        "print(type(a_str))"
      ],
      "metadata": {
        "colab": {
          "base_uri": "https://localhost:8080/"
        },
        "id": "ydwWGRe7PrAW",
        "outputId": "b4cf1c53-6ada-46c4-8427-9c9013f1d64d"
      },
      "execution_count": 44,
      "outputs": [
        {
          "output_type": "stream",
          "name": "stdout",
          "text": [
            "<class 'tuple'>\n"
          ]
        }
      ]
    },
    {
      "cell_type": "code",
      "source": [
        "a_str = ('seperate')\n",
        "print(type(a_str))"
      ],
      "metadata": {
        "colab": {
          "base_uri": "https://localhost:8080/"
        },
        "id": "196t5KvuP-lE",
        "outputId": "eb7eafdd-ed3c-436d-cc91-fbf58ea4fd68"
      },
      "execution_count": 46,
      "outputs": [
        {
          "output_type": "stream",
          "name": "stdout",
          "text": [
            "<class 'str'>\n"
          ]
        }
      ]
    },
    {
      "cell_type": "code",
      "source": [
        "print(*range(10,0,-2))"
      ],
      "metadata": {
        "colab": {
          "base_uri": "https://localhost:8080/"
        },
        "id": "DFT7BwxgPNQo",
        "outputId": "0d590011-c23c-4c67-821d-5f22ffeb3ef0"
      },
      "execution_count": 41,
      "outputs": [
        {
          "output_type": "stream",
          "name": "stdout",
          "text": [
            "10 8 6 4 2\n"
          ]
        }
      ]
    },
    {
      "cell_type": "code",
      "source": [
        "for i in range(10,0,-2):\n",
        "    print(i)"
      ],
      "metadata": {
        "colab": {
          "base_uri": "https://localhost:8080/"
        },
        "id": "WtTUD-LJPRvk",
        "outputId": "e988bdde-dc5e-40cd-c751-bfafe9ec7682"
      },
      "execution_count": 42,
      "outputs": [
        {
          "output_type": "stream",
          "name": "stdout",
          "text": [
            "10\n",
            "8\n",
            "6\n",
            "4\n",
            "2\n"
          ]
        }
      ]
    },
    {
      "cell_type": "code",
      "source": [
        "#zip metodu\n",
        "text = [\"one\", \"two\", \"three\", \"four\", \"five\"]\n",
        "nums = [1,2,3,4,5]\n",
        "for i,j in zip(text, nums):\n",
        "    print(i, \":\", j)"
      ],
      "metadata": {
        "colab": {
          "base_uri": "https://localhost:8080/"
        },
        "id": "Esx4pwSMQS83",
        "outputId": "2eebbb7c-868a-49f6-abfe-d268075cd5a5"
      },
      "execution_count": 48,
      "outputs": [
        {
          "output_type": "stream",
          "name": "stdout",
          "text": [
            "one : 1\n",
            "two : 2\n",
            "three : 3\n",
            "four : 4\n",
            "five : 5\n"
          ]
        }
      ]
    },
    {
      "cell_type": "code",
      "source": [
        "#zip metodu\n",
        "text = [\"one\", \"two\", \"three\", \"four\", \"five\"]\n",
        "nums = [1,2,3,4,5]\n",
        "for i,j in zip(text, nums):\n",
        "    print(i, j)"
      ],
      "metadata": {
        "colab": {
          "base_uri": "https://localhost:8080/"
        },
        "id": "ZTIOlAtRQ0y7",
        "outputId": "3b5f9b15-5eb0-4e8b-ed6c-1575d43756e7"
      },
      "execution_count": 49,
      "outputs": [
        {
          "output_type": "stream",
          "name": "stdout",
          "text": [
            "one 1\n",
            "two 2\n",
            "three 3\n",
            "four 4\n",
            "five 5\n"
          ]
        }
      ]
    },
    {
      "cell_type": "code",
      "source": [
        "print(\"evens:\" ,list(range(0,10,2)))\n",
        "print(\"odds:\", list(range(1, 10, 2)))"
      ],
      "metadata": {
        "colab": {
          "base_uri": "https://localhost:8080/"
        },
        "id": "mcHx-jciRfJ7",
        "outputId": "eae0ffae-d280-4d38-eabc-0469ec23ff05"
      },
      "execution_count": 50,
      "outputs": [
        {
          "output_type": "stream",
          "name": "stdout",
          "text": [
            "evens: [0, 2, 4, 6, 8]\n",
            "odds: [1, 3, 5, 7, 9]\n"
          ]
        }
      ]
    },
    {
      "cell_type": "code",
      "source": [
        "evens = []\n",
        "odds = []\n",
        "for i in range(10):\n",
        "    if i%2: # i%2==1 ise\n",
        "        odds.append(i)\n",
        "    else:\n",
        "        evens.append(i)\n",
        "print(\"evens :\", evens)\n",
        "print(\"odds :\", odds)"
      ],
      "metadata": {
        "colab": {
          "base_uri": "https://localhost:8080/"
        },
        "id": "rytfH9peSFjv",
        "outputId": "fa3b7903-208d-4514-850e-51797c9bb7fb"
      },
      "execution_count": 51,
      "outputs": [
        {
          "output_type": "stream",
          "name": "stdout",
          "text": [
            "evens : [0, 2, 4, 6, 8]\n",
            "odds : [1, 3, 5, 7, 9]\n"
          ]
        }
      ]
    },
    {
      "cell_type": "code",
      "source": [],
      "metadata": {
        "id": "4pvYwefTo6CY"
      },
      "execution_count": null,
      "outputs": []
    },
    {
      "cell_type": "code",
      "source": [
        "lstm = [6, 11, 2, 24, 61, 48, 33, 3, 5]\n",
        "even_count = 0\n",
        "odd_count = 0\n",
        "for i in lstm:\n",
        "    if i%2==0: #çiftir\n",
        "        even_count +=1\n",
        "    else:\n",
        "        odd_count +=1\n",
        "print(\"The number of even numbers.: \", even_count)\n",
        "print(\"The number of odd numbers.: \", odd_count)"
      ],
      "metadata": {
        "colab": {
          "base_uri": "https://localhost:8080/"
        },
        "id": "_OCGvmqaWJeu",
        "outputId": "43d529e9-8a76-48bf-e2af-a30caadaa9d3"
      },
      "execution_count": 53,
      "outputs": [
        {
          "output_type": "stream",
          "name": "stdout",
          "text": [
            "The number of even numbers.:  4\n",
            "The number of odd numbers.:  5\n"
          ]
        }
      ]
    },
    {
      "cell_type": "code",
      "source": [
        "lstm = [6, 11, 2, 24, 61, 48, 33, 3, 5]\n",
        "even_count = odd_count = 0\n",
        "for i in lstm:\n",
        "    if i%2==0: #çiftir\n",
        "        even_count +=1\n",
        "    else:\n",
        "        odd_count +=1\n",
        "print(\"The number of even numbers.: \", even_count)\n",
        "print(\"The number of odd numbers.: \", odd_count)"
      ],
      "metadata": {
        "colab": {
          "base_uri": "https://localhost:8080/"
        },
        "id": "P6-tzymVW94R",
        "outputId": "5b205fb2-ef21-45e4-c544-5244cfa23d23"
      },
      "execution_count": 56,
      "outputs": [
        {
          "output_type": "stream",
          "name": "stdout",
          "text": [
            "The number of even numbers.:  4\n",
            "The number of odd numbers.:  5\n"
          ]
        }
      ]
    },
    {
      "cell_type": "code",
      "source": [
        "#listeyi kullanıcadan girilen sayılar ile oluşturalım\n",
        "n = int(input(\"kaç sayı girmek istiyorsun?\"))\n",
        "sayac = 0\n",
        "lstm = []\n",
        "while sayac<n:\n",
        "    sayi = int(input(f\"Listenin {sayac}. elemanı.:\"))\n",
        "    lstm.append(sayi)\n",
        "    sayac +=1\n",
        "\n",
        "# tek ve çift sayıların adedini bulan program parçası\n",
        "even_count = odd_count = 0\n",
        "for i in lstm:\n",
        "    if i%2==0: #çiftir\n",
        "        even_count +=1\n",
        "    else:\n",
        "        odd_count +=1\n",
        "print(\"The number of even numbers.: \", even_count)\n",
        "print(\"The number of odd numbers.: \", odd_count)"
      ],
      "metadata": {
        "colab": {
          "base_uri": "https://localhost:8080/"
        },
        "id": "UUFcekG0XX1K",
        "outputId": "d2b8ac80-9572-4825-b05b-cef0708094fa"
      },
      "execution_count": 57,
      "outputs": [
        {
          "output_type": "stream",
          "name": "stdout",
          "text": [
            "kaç sayı girmek istiyorsun?5\n",
            "Listenin 0. elemanı.:45\n",
            "Listenin 1. elemanı.:23\n",
            "Listenin 2. elemanı.:2\n",
            "Listenin 3. elemanı.:67\n",
            "Listenin 4. elemanı.:8\n",
            "The number of even numbers.:  2\n",
            "The number of odd numbers.:  3\n"
          ]
        }
      ]
    },
    {
      "cell_type": "code",
      "source": [
        "import random\n",
        "lstm = [random.randint(1,100)]\n",
        "print(lstm)"
      ],
      "metadata": {
        "colab": {
          "base_uri": "https://localhost:8080/"
        },
        "id": "NWR--QY9Y1NS",
        "outputId": "f8813893-4b10-428c-a256-16ae1af40f8e"
      },
      "execution_count": 60,
      "outputs": [
        {
          "output_type": "stream",
          "name": "stdout",
          "text": [
            "[37]\n"
          ]
        }
      ]
    },
    {
      "cell_type": "code",
      "source": [
        "#listeyi random sayılardan oluşturalım\n",
        "import random\n",
        "lstm = []\n",
        "n = 10\n",
        "sayac = 0\n",
        "while sayac<n:\n",
        "    lstm.append(random.randint(1,100))\n",
        "    sayac +=1\n",
        "\n",
        "print(lstm)\n",
        "# tek ve çift sayıların adedini bulan program parçası\n",
        "even_count = odd_count = 0\n",
        "for i in lstm:\n",
        "    if i%2==0: #çiftir\n",
        "        even_count +=1\n",
        "    else:\n",
        "        odd_count +=1\n",
        "print(\"The number of even numbers.: \", even_count)\n",
        "print(\"The number of odd numbers.: \", odd_count)"
      ],
      "metadata": {
        "colab": {
          "base_uri": "https://localhost:8080/"
        },
        "id": "AiZdkkU9YT7r",
        "outputId": "48338b48-0dfe-4da8-93d5-bf9be3531d1f"
      },
      "execution_count": 63,
      "outputs": [
        {
          "output_type": "stream",
          "name": "stdout",
          "text": [
            "[43, 97, 46, 95, 69, 96, 82, 28, 64, 11]\n",
            "The number of even numbers.:  5\n",
            "The number of odd numbers.:  5\n"
          ]
        }
      ]
    },
    {
      "cell_type": "code",
      "source": [
        "# randomdan istenilen sayida eleman cekme\n",
        "import random\n",
        "n = 10\n",
        "x = random.sample(range(1, 100), n)\n",
        "print(x)"
      ],
      "metadata": {
        "colab": {
          "base_uri": "https://localhost:8080/"
        },
        "id": "yKX_UEchZbGt",
        "outputId": "a9160dd8-a7f3-4803-efbc-9456039d8648"
      },
      "execution_count": 68,
      "outputs": [
        {
          "output_type": "stream",
          "name": "stdout",
          "text": [
            "[14, 77, 93, 73, 54, 7, 40, 31, 95, 66]\n"
          ]
        }
      ]
    },
    {
      "cell_type": "code",
      "source": [
        "#klasik çözüm\n",
        "for i in range(1,10): #satır: dış döngü değişkeni: i\n",
        "    for j in range(i): #sütun: iç döngü değişkeni :j\n",
        "        print(i, end=\"\") # i değerlerini yan yana\n",
        "    print() #bir satır altla"
      ],
      "metadata": {
        "colab": {
          "base_uri": "https://localhost:8080/"
        },
        "id": "iJwf68bGaw5l",
        "outputId": "524e1563-eb97-4c3d-bcfb-064df8a703e2"
      },
      "execution_count": 77,
      "outputs": [
        {
          "output_type": "stream",
          "name": "stdout",
          "text": [
            "1\n",
            "22\n",
            "333\n",
            "4444\n",
            "55555\n",
            "666666\n",
            "7777777\n",
            "88888888\n",
            "999999999\n"
          ]
        }
      ]
    },
    {
      "cell_type": "code",
      "source": [
        "print(\"3\"*4)"
      ],
      "metadata": {
        "colab": {
          "base_uri": "https://localhost:8080/"
        },
        "id": "1nQOMd6wcejL",
        "outputId": "8114eb1d-6399-4526-9bf1-4c8c9f5f277f"
      },
      "execution_count": 79,
      "outputs": [
        {
          "output_type": "stream",
          "name": "stdout",
          "text": [
            "3333\n"
          ]
        }
      ]
    },
    {
      "cell_type": "code",
      "source": [
        "for i in range(1,10):\n",
        "    print(str(i) * i)"
      ],
      "metadata": {
        "colab": {
          "base_uri": "https://localhost:8080/"
        },
        "id": "AIWeUwr8bSbL",
        "outputId": "cf453b4f-7d86-4591-a80f-5013085099c3"
      },
      "execution_count": 70,
      "outputs": [
        {
          "output_type": "stream",
          "name": "stdout",
          "text": [
            "1\n",
            "22\n",
            "333\n",
            "4444\n",
            "55555\n",
            "666666\n",
            "7777777\n",
            "88888888\n",
            "999999999\n"
          ]
        }
      ]
    },
    {
      "cell_type": "code",
      "source": [
        "for i in range(1,10):\n",
        "    print(\"i\" * i)"
      ],
      "metadata": {
        "colab": {
          "base_uri": "https://localhost:8080/"
        },
        "id": "u2JW-P1YcYWU",
        "outputId": "cc149f68-ef14-4e46-ea28-0945baf9c53e"
      },
      "execution_count": 80,
      "outputs": [
        {
          "output_type": "stream",
          "name": "stdout",
          "text": [
            "i\n",
            "ii\n",
            "iii\n",
            "iiii\n",
            "iiiii\n",
            "iiiiii\n",
            "iiiiiii\n",
            "iiiiiiii\n",
            "iiiiiiiii\n"
          ]
        }
      ]
    },
    {
      "cell_type": "code",
      "source": [
        "for i in range(1,10):\n",
        "    print(i * i)"
      ],
      "metadata": {
        "colab": {
          "base_uri": "https://localhost:8080/"
        },
        "id": "x0S1VJnjbcam",
        "outputId": "ee23dbe9-9ffc-4cca-bda9-90924222546f"
      },
      "execution_count": 71,
      "outputs": [
        {
          "output_type": "stream",
          "name": "stdout",
          "text": [
            "1\n",
            "4\n",
            "9\n",
            "16\n",
            "25\n",
            "36\n",
            "49\n",
            "64\n",
            "81\n"
          ]
        }
      ]
    },
    {
      "cell_type": "code",
      "source": [
        "toplam = 0\n",
        "for i in range(1,75):\n",
        "  toplam += i\n",
        "print(\"Toplam.: \", toplam)"
      ],
      "metadata": {
        "colab": {
          "base_uri": "https://localhost:8080/"
        },
        "id": "O7TSQ8_Cd1CC",
        "outputId": "1f6845cf-5315-477e-b2e3-708852c378b0"
      },
      "execution_count": 84,
      "outputs": [
        {
          "output_type": "stream",
          "name": "stdout",
          "text": [
            "Toplam.:  2775\n"
          ]
        }
      ]
    },
    {
      "cell_type": "code",
      "source": [
        "numlist = list(range(1,75))\n",
        "print(\"Toplam.: \", sum(numlist))"
      ],
      "metadata": {
        "colab": {
          "base_uri": "https://localhost:8080/"
        },
        "id": "iKOlo3mOeDX2",
        "outputId": "1a72600f-31d2-4bba-8cf7-bff031ff8479"
      },
      "execution_count": 85,
      "outputs": [
        {
          "output_type": "stream",
          "name": "stdout",
          "text": [
            "Toplam.:  2775\n"
          ]
        }
      ]
    },
    {
      "cell_type": "code",
      "source": [
        "numlist = [sum(i for i in range(1,75))]\n",
        "print(\"Toplam.: \", numlist)"
      ],
      "metadata": {
        "colab": {
          "base_uri": "https://localhost:8080/"
        },
        "id": "BcEIWg0EqQ-b",
        "outputId": "72c8c59d-e512-43c7-9d04-122b08f5b68d"
      },
      "execution_count": 148,
      "outputs": [
        {
          "output_type": "stream",
          "name": "stdout",
          "text": [
            "Toplam.:  [2775]\n"
          ]
        }
      ]
    },
    {
      "cell_type": "code",
      "source": [
        "# nested looop\n",
        "# çarpım tablosu\n",
        "for t in range(1,11):\n",
        "    for i in range(1,11):\n",
        "        print(f\"{t}*{i}=\", t*i)\n",
        "    print() #1 satır altla"
      ],
      "metadata": {
        "id": "DlKUo-7MfOwS"
      },
      "execution_count": null,
      "outputs": []
    },
    {
      "cell_type": "code",
      "source": [
        "who = [\"I am \", \"You are \"]\n",
        "mood = [\"happy\", \"confident\"]\n",
        "for i in who:\n",
        "    for ii in mood:\n",
        "        print(i + ii)"
      ],
      "metadata": {
        "colab": {
          "base_uri": "https://localhost:8080/"
        },
        "id": "UpVgAYxmf2i8",
        "outputId": "e8fb7996-832e-4778-9aab-54086023bbd8"
      },
      "execution_count": 90,
      "outputs": [
        {
          "output_type": "stream",
          "name": "stdout",
          "text": [
            "I am happy\n",
            "I am confident\n",
            "You are happy\n",
            "You are confident\n"
          ]
        }
      ]
    },
    {
      "cell_type": "code",
      "source": [
        "names = [\"Susan\" , \"Tom\" , \"Tim\"]\n",
        "mood = [\"happy\" , \"sad\"]\n",
        "for i in names:\n",
        "    for ii in mood:\n",
        "        print(f\"{i} is {ii}\")"
      ],
      "metadata": {
        "colab": {
          "base_uri": "https://localhost:8080/"
        },
        "id": "rvBa3wjWikyt",
        "outputId": "f1d3cc79-54de-47b3-f4e1-39b02e601afa"
      },
      "execution_count": 91,
      "outputs": [
        {
          "output_type": "stream",
          "name": "stdout",
          "text": [
            "Susan is happy\n",
            "Susan is sad\n",
            "Tom is happy\n",
            "Tom is sad\n",
            "Tim is happy\n",
            "Tim is sad\n"
          ]
        }
      ]
    },
    {
      "cell_type": "code",
      "source": [
        "## Sayısal Loto Çekilişi (1-49 dahil 6 sayı üreteceğiz... )\n",
        "import random\n",
        "lotom = []\n",
        "for i in range(6): #6 sayı üret\n",
        "    sayi = random.randint(1,50)\n",
        "    lotom.append(sayi)\n",
        "\n",
        "print(lotom)"
      ],
      "metadata": {
        "colab": {
          "base_uri": "https://localhost:8080/"
        },
        "id": "VRv-nD07jCrM",
        "outputId": "8664067a-4e1f-4a26-b2d4-5585650ef68b"
      },
      "execution_count": 110,
      "outputs": [
        {
          "output_type": "stream",
          "name": "stdout",
          "text": [
            "[16, 50, 37, 1, 21, 17]\n"
          ]
        }
      ]
    },
    {
      "cell_type": "code",
      "source": [
        "## Sayısal Loto Çekilişi (1-49 dahil 6 sayı üreteceğiz... )\n",
        "import random\n",
        "lotom = []\n",
        "while len(lotom)<6: #6 sayı üret\n",
        "    sayi = random.randint(1,49)\n",
        "    if sayi not in lotom:\n",
        "        lotom.append(sayi)\n",
        "\n",
        "print(lotom)"
      ],
      "metadata": {
        "colab": {
          "base_uri": "https://localhost:8080/"
        },
        "id": "Sd44SfY8j4iV",
        "outputId": "ab0baf71-1662-4a6c-c9af-3659086c0d98"
      },
      "execution_count": 130,
      "outputs": [
        {
          "output_type": "stream",
          "name": "stdout",
          "text": [
            "[14, 13, 20, 25, 15, 23]\n"
          ]
        }
      ]
    },
    {
      "cell_type": "code",
      "source": [
        "## Sayısal Loto Çekilişi (1-49 dahil 6 sayı üreteceğiz... )\n",
        "import random\n",
        "lotom = []\n",
        "while len(lotom)<6: #6 sayı üret\n",
        "    sayi = random.randint(1, 50)\n",
        "    if lotom.count(sayi) == 0:\n",
        "        lotom.append(sayi)\n",
        "\n",
        "print(lotom)"
      ],
      "metadata": {
        "colab": {
          "base_uri": "https://localhost:8080/"
        },
        "id": "HToY8DEbmr4G",
        "outputId": "91baa0ab-7545-41e4-88a7-4068dc5cd6ad"
      },
      "execution_count": 137,
      "outputs": [
        {
          "output_type": "stream",
          "name": "stdout",
          "text": [
            "[22, 4, 30, 28, 34, 21]\n"
          ]
        }
      ]
    },
    {
      "cell_type": "code",
      "source": [
        "listem = []\n",
        "for i in range(10):\n",
        "    listem.append(i)\n",
        "\n",
        "print(listem)"
      ],
      "metadata": {
        "colab": {
          "base_uri": "https://localhost:8080/"
        },
        "id": "zloI2VDPnYGr",
        "outputId": "99bf6582-3336-4e2a-c827-a54834fe090d"
      },
      "execution_count": 140,
      "outputs": [
        {
          "output_type": "stream",
          "name": "stdout",
          "text": [
            "[0, 1, 2, 3, 4, 5, 6, 7, 8, 9]\n"
          ]
        }
      ]
    },
    {
      "cell_type": "code",
      "source": [
        "listem = [i for i in range(10)] #kısa formu\n",
        "print(listem)"
      ],
      "metadata": {
        "colab": {
          "base_uri": "https://localhost:8080/"
        },
        "id": "TGqbVwhTnjrY",
        "outputId": "accfebb9-63a7-4ad5-9763-b0cbb1ca0dfd"
      },
      "execution_count": 141,
      "outputs": [
        {
          "output_type": "stream",
          "name": "stdout",
          "text": [
            "[0, 1, 2, 3, 4, 5, 6, 7, 8, 9]\n"
          ]
        }
      ]
    },
    {
      "cell_type": "code",
      "source": [
        "#0-10 sayıların karelerinden bir liste oluşturalım\n",
        "listem = [i*i for i in range(10)]\n",
        "print(listem)"
      ],
      "metadata": {
        "colab": {
          "base_uri": "https://localhost:8080/"
        },
        "id": "0wnHpvQCn2NQ",
        "outputId": "7ec02d61-d7e1-44f0-bdb6-ea8f8910700e"
      },
      "execution_count": 142,
      "outputs": [
        {
          "output_type": "stream",
          "name": "stdout",
          "text": [
            "[0, 1, 4, 9, 16, 25, 36, 49, 64, 81]\n"
          ]
        }
      ]
    },
    {
      "cell_type": "code",
      "source": [
        "odds = []\n",
        "for i in range(10):\n",
        "    if i%2: # i%2==1 ise\n",
        "        odds.append(i)\n",
        "\n",
        "print(\"odds :\", odds)\n"
      ],
      "metadata": {
        "colab": {
          "base_uri": "https://localhost:8080/"
        },
        "id": "b4FhjA0coK4R",
        "outputId": "f0db3ded-b850-479c-a0fa-a767b79d4e39"
      },
      "execution_count": 144,
      "outputs": [
        {
          "output_type": "stream",
          "name": "stdout",
          "text": [
            "odds : [1, 3, 5, 7, 9]\n"
          ]
        }
      ]
    },
    {
      "cell_type": "code",
      "source": [
        "odd_s = [i for i in range(10) if i%2]\n",
        "print(\"odds :\", odd_s)"
      ],
      "metadata": {
        "colab": {
          "base_uri": "https://localhost:8080/"
        },
        "id": "GO_SwNl8oY7E",
        "outputId": "61fa0543-c2d4-498c-f04b-8544256d2868"
      },
      "execution_count": 145,
      "outputs": [
        {
          "output_type": "stream",
          "name": "stdout",
          "text": [
            "odds : [1, 3, 5, 7, 9]\n"
          ]
        }
      ]
    },
    {
      "cell_type": "code",
      "source": [
        "## 1 den 10 kadar ki sayılar dan sayı çift ise olduğu gibi,\n",
        "## tek ise karesini alan ve yeni listeyi bu şekilde oluşturan programı yazalım\n",
        "listem = []\n",
        "for i in range(1,10):\n",
        "    if i%2==0:\n",
        "        listem.append(i)\n",
        "    else:\n",
        "        listem.append(i*i)\n",
        "print(listem)"
      ],
      "metadata": {
        "colab": {
          "base_uri": "https://localhost:8080/"
        },
        "id": "Nhn4ZLm8pOMX",
        "outputId": "5cef490a-928b-4e1d-ab0d-15e6246fa45f"
      },
      "execution_count": 146,
      "outputs": [
        {
          "output_type": "stream",
          "name": "stdout",
          "text": [
            "[1, 2, 9, 4, 25, 6, 49, 8, 81]\n"
          ]
        }
      ]
    },
    {
      "cell_type": "code",
      "source": [
        "#kısa formu\n",
        "listem = [i if i%2==0 else i*i for i in range(1,10)]\n",
        "\n",
        "print(listem)"
      ],
      "metadata": {
        "colab": {
          "base_uri": "https://localhost:8080/"
        },
        "id": "xuDG_oXDpuwL",
        "outputId": "9fa56798-66f3-4f48-ac35-cc2f611a69f2"
      },
      "execution_count": 147,
      "outputs": [
        {
          "output_type": "stream",
          "name": "stdout",
          "text": [
            "[1, 2, 9, 4, 25, 6, 49, 8, 81]\n"
          ]
        }
      ]
    },
    {
      "cell_type": "code",
      "source": [
        "cumle = \"Mistakes are for people\" #sesli harfleri çıkardı\n",
        "sessiz_harfler = set(i for i in cumle if i not in \"aeiou\")\n",
        "print(sessiz_harfler)"
      ],
      "metadata": {
        "colab": {
          "base_uri": "https://localhost:8080/"
        },
        "id": "hgVkE3zvqonA",
        "outputId": "dacf16a9-56e0-46a2-bb8b-0b8a5c30440e"
      },
      "execution_count": 150,
      "outputs": [
        {
          "output_type": "stream",
          "name": "stdout",
          "text": [
            "{'r', 'l', 't', 'M', 'k', 'p', 's', 'f', ' '}\n"
          ]
        }
      ]
    },
    {
      "cell_type": "code",
      "source": [
        "#sözlük üreteci\n",
        "listem = [\"charlie\", \"sezai\", \"ayşe\", \"kaan\", \"ali\"]\n",
        "sozluk = {k:len(k) for k in listem}\n",
        "print(sozluk)"
      ],
      "metadata": {
        "colab": {
          "base_uri": "https://localhost:8080/"
        },
        "id": "xLgvlOv8rSPY",
        "outputId": "55a612e2-8961-4d50-d88d-96468c7bcc8f"
      },
      "execution_count": 152,
      "outputs": [
        {
          "output_type": "stream",
          "name": "stdout",
          "text": [
            "{'charlie': 7, 'sezai': 5, 'ayşe': 4, 'kaan': 4, 'ali': 3}\n"
          ]
        }
      ]
    },
    {
      "cell_type": "code",
      "source": [
        "dict_couple = { \"bride\" : [\"marry\", \"bella\",  \"linda\", \"emma\"],\n",
        "                \"groom\": [\"jack\", \"robert\", \"eric\", \"adam\"]}\n",
        "evlilik_eslestirmesi = {i[0]:i[1] for i in zip(dict_couple[\"bride\"], dict_couple[\"groom\"])}\n",
        "print(evlilik_eslestirmesi)"
      ],
      "metadata": {
        "colab": {
          "base_uri": "https://localhost:8080/"
        },
        "id": "UtXw8uDRs7VG",
        "outputId": "3b43a6d1-b3b2-4de9-d561-7e11a7f1291a"
      },
      "execution_count": 153,
      "outputs": [
        {
          "output_type": "stream",
          "name": "stdout",
          "text": [
            "{'marry': 'jack', 'bella': 'robert', 'linda': 'eric', 'emma': 'adam'}\n"
          ]
        }
      ]
    }
  ]
}