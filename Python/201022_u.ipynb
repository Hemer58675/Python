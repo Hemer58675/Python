{
 "cells": [
  {
   "cell_type": "code",
   "execution_count": 3,
   "metadata": {},
   "outputs": [],
   "source": [
    "from turtle import *\n",
    "color('red', 'yellow')\n",
    "begin_fill()\n",
    "while True:\n",
    "    forward(200)\n",
    "    left(170)\n",
    "    if abs(pos()) < 1:\n",
    "        break\n",
    "end_fill()\n",
    "done()"
   ]
  },
  {
   "cell_type": "code",
   "execution_count": null,
   "metadata": {},
   "outputs": [],
   "source": [
    "x = input(\"yasinizi giriniz\")\n",
    "\n",
    "while type(x) != int:\n",
    "    x = input(\"yasinizi giriniz\")\n",
    "print(x)\n"
   ]
  },
  {
   "cell_type": "code",
   "execution_count": 3,
   "metadata": {},
   "outputs": [
    {
     "name": "stdout",
     "output_type": "stream",
     "text": [
      "34\n"
     ]
    }
   ],
   "source": [
    "x = input(\"yasinizi giriniz\")\n",
    "while x.isdigit() != True:\n",
    "    x = input(\"yasinizi giriniz\")\n",
    "print(x)"
   ]
  },
  {
   "cell_type": "code",
   "execution_count": 16,
   "metadata": {},
   "outputs": [
    {
     "name": "stdout",
     "output_type": "stream",
     "text": [
      "True\n",
      "True\n"
     ]
    }
   ],
   "source": [
    "print(b'232323424'.isdigit())\n",
    "print(b'  '.isspace())"
   ]
  },
  {
   "cell_type": "code",
   "execution_count": 20,
   "metadata": {},
   "outputs": [
    {
     "name": "stdout",
     "output_type": "stream",
     "text": [
      "tebrikler bildiniz sayi 47\n"
     ]
    }
   ],
   "source": [
    "x = int(input(\"bir sayi giriniz\"))\n",
    "y = 47\n",
    "while x != y:\n",
    "    if x < y:\n",
    "        x = int(input(\"büyük sayi giriniz\"))\n",
    "    else:\n",
    "        x = int(input(\"kücük sayi giriniz\"))\n",
    "print(f\"tebrikler bildiniz sayi {y}\")"
   ]
  },
  {
   "cell_type": "code",
   "execution_count": 21,
   "metadata": {},
   "outputs": [
    {
     "name": "stdout",
     "output_type": "stream",
     "text": [
      "tebrikler bildiniz sayi 47\n"
     ]
    }
   ],
   "source": [
    "x = int(input(\"bir sayi giriniz\"))\n",
    "y = 47\n",
    "while True:\n",
    "    if x < y:\n",
    "        x = int(input(\"büyük sayi giriniz\"))\n",
    "    elif x > y:\n",
    "        x = int(input(\"kücük sayi giriniz\"))\n",
    "    else:\n",
    "        print(f\"tebrikler bildiniz sayi {y}\")\n",
    "        break\n"
   ]
  },
  {
   "cell_type": "code",
   "execution_count": 24,
   "metadata": {},
   "outputs": [
    {
     "name": "stdout",
     "output_type": "stream",
     "text": [
      "45\n",
      "66\n",
      "88\n",
      "77\n",
      "70\n",
      "73\n",
      "tebrikler 6 tekrarda bildiniz 73 yi\n"
     ]
    }
   ],
   "source": [
    "import random\n",
    "\n",
    "x = int(input(\"bir sayi giriniz\"))\n",
    "y = random.randint(0,100)\n",
    "i = 0\n",
    "while True:\n",
    "    i +=1\n",
    "    print(f\"{i} deneme {x}\")\n",
    "    if x < y:\n",
    "        x = int(input(f\"büyük sayi giriniz\"))\n",
    "    elif x > y:\n",
    "        x = int(input(\"kücük sayi giriniz\"))        \n",
    "    else:\n",
    "        print(f\"tebrikler  bildiniz {y}\")\n",
    "        break\n"
   ]
  },
  {
   "cell_type": "code",
   "execution_count": 25,
   "metadata": {},
   "outputs": [
    {
     "name": "stdout",
     "output_type": "stream",
     "text": [
      "daha büyük sayı gir.\n",
      "daha büyük sayı gir.\n",
      "daha küçük sayı gir.\n",
      "daha küçük sayı gir.\n",
      "Bravo!,5 tahminde sayıyı buldunuz\n",
      "Puanınız.: 60\n"
     ]
    }
   ],
   "source": [
    "##puanlı tahmin oyunu\n",
    "import random\n",
    "num = random.randint(0,100)\n",
    "sayac = 0\n",
    "puan = 100\n",
    "while True:\n",
    "    sayac +=1\n",
    "    tahmin = int(input(\"Hangi sayıyı tuttum..: \"))\n",
    "    if tahmin<num:\n",
    "        print(\"daha büyük sayı gir.\")\n",
    "    elif tahmin>num:\n",
    "        print(\"daha küçük sayı gir.\")\n",
    "    else:\n",
    "        print(f\"Bravo!,{sayac} tahminde sayıyı buldunuz\\nPuanınız.: {puan}\")\n",
    "        break       #sonsuz döngüden çık\n",
    "    puan -= 10"
   ]
  },
  {
   "cell_type": "code",
   "execution_count": 27,
   "metadata": {},
   "outputs": [
    {
     "name": "stdout",
     "output_type": "stream",
     "text": [
      "en uzun kelime 8\n"
     ]
    }
   ],
   "source": [
    "str1 = input(\"bir cümle giriniz\") \n",
    "kelime = str1.split()\n",
    "en_uzun = 0\n",
    "i = j = 0\n",
    "harf = {}\n",
    "while i < len(kelime):\n",
    "    if len(kelime[i])> en_uzun:\n",
    "        en_uzun = len(kelime[i])\n",
    "    i +=1\n",
    "print(\"en uzun kelime\", en_uzun)\n"
   ]
  },
  {
   "cell_type": "code",
   "execution_count": 29,
   "metadata": {},
   "outputs": [
    {
     "ename": "KeyError",
     "evalue": "'append'",
     "output_type": "error",
     "traceback": [
      "\u001b[1;31m---------------------------------------------------------------------------\u001b[0m",
      "\u001b[1;31mKeyError\u001b[0m                                  Traceback (most recent call last)",
      "Cell \u001b[1;32mIn [29], line 4\u001b[0m\n\u001b[0;32m      2\u001b[0m \u001b[39mfor\u001b[39;00m i \u001b[39min\u001b[39;00m \u001b[39mdir\u001b[39m(\u001b[39mlist\u001b[39m): \u001b[39m## sadece bana lis'in metotlarini ver. _ olanlari verme\u001b[39;00m\n\u001b[0;32m      3\u001b[0m     \u001b[39mif\u001b[39;00m \u001b[39mnot\u001b[39;00m i\u001b[39m.\u001b[39mstartswith(\u001b[39m\"\u001b[39m\u001b[39m_\u001b[39m\u001b[39m\"\u001b[39m):\n\u001b[1;32m----> 4\u001b[0m         list_method[i]\n\u001b[0;32m      5\u001b[0m         \u001b[39mprint\u001b[39m(i)\n",
      "\u001b[1;31mKeyError\u001b[0m: 'append'"
     ]
    }
   ],
   "source": [
    "list_method = {}\n",
    "for i in dir(list): ## sadece bana lis'in metotlarini ver. _ olanlari verme\n",
    "    if not i.startswith(\"_\"):\n",
    "        # list_method = list_method.append(i)\n",
    "        print(i)"
   ]
  },
  {
   "cell_type": "code",
   "execution_count": 30,
   "metadata": {},
   "outputs": [
    {
     "name": "stdout",
     "output_type": "stream",
     "text": [
      "hello ArithmeticError\n",
      "hello kelime\n",
      "hello takisima\n"
     ]
    }
   ],
   "source": [
    "names =[\"ArithmeticError\", \"kelime\", \"takisima\"]\n",
    "for name in names:\n",
    "    print(f\"hello {name}\")"
   ]
  },
  {
   "cell_type": "code",
   "execution_count": 33,
   "metadata": {},
   "outputs": [
    {
     "name": "stdout",
     "output_type": "stream",
     "text": [
      "[1, 2, 3, 4, 5]\n"
     ]
    }
   ],
   "source": [
    "a = []\n",
    "for i in range(1,6):\n",
    "    a.append(i)\n",
    "print(a)\n"
   ]
  },
  {
   "cell_type": "code",
   "execution_count": 38,
   "metadata": {},
   "outputs": [
    {
     "name": "stdout",
     "output_type": "stream",
     "text": [
      "c-l-a-r-u-s-w-a-y\n"
     ]
    }
   ],
   "source": [
    "a = \"Clarusway\".lower()\n",
    "for i in a:\n",
    "    print(i, end=\"-\")\n",
    "print(\"\\b\")"
   ]
  },
  {
   "cell_type": "code",
   "execution_count": 39,
   "metadata": {},
   "outputs": [
    {
     "name": "stdout",
     "output_type": "stream",
     "text": [
      "c-l-a-r-u-s-w-a-y\n"
     ]
    }
   ],
   "source": [
    "for i in \"Clarusway\".lower():\n",
    "    print(i, end=\"-\")\n",
    "print(\"\\b\")"
   ]
  },
  {
   "cell_type": "code",
   "execution_count": 40,
   "metadata": {},
   "outputs": [
    {
     "name": "stdout",
     "output_type": "stream",
     "text": [
      "c-l-a-r-u-s-w-a-y"
     ]
    }
   ],
   "source": [
    "word = input(\"bir text giriniz\")\n",
    "sayac = 0\n",
    "for a in word:\n",
    "    sayac +=1\n",
    "    if sayac< len(word):\n",
    "        a = a+\"-\"\n",
    "    print(a,end=\"\")"
   ]
  },
  {
   "cell_type": "code",
   "execution_count": 42,
   "metadata": {},
   "outputs": [
    {
     "name": "stdout",
     "output_type": "stream",
     "text": [
      "c-l-a-r-u-s-w-a-y\n"
     ]
    }
   ],
   "source": [
    "text = \"Clarusway\".lower()\n",
    "print(\"-\".join(text))"
   ]
  },
  {
   "cell_type": "code",
   "execution_count": null,
   "metadata": {},
   "outputs": [],
   "source": [
    "user ={\"name\":}"
   ]
  },
  {
   "cell_type": "code",
   "execution_count": 46,
   "metadata": {},
   "outputs": [
    {
     "name": "stdout",
     "output_type": "stream",
     "text": [
      "20\n"
     ]
    }
   ],
   "source": [
    "a = 5\n",
    "b = 4\n",
    "x = 0\n",
    "for i in range(1,1+a):\n",
    "    x += b\n",
    "print(x)\n"
   ]
  },
  {
   "cell_type": "code",
   "execution_count": 49,
   "metadata": {},
   "outputs": [
    {
     "name": "stdout",
     "output_type": "stream",
     "text": [
      "{'ArithmeticError': 0, 'kelime': 1, 'takisima': 2}\n"
     ]
    }
   ],
   "source": [
    "names =[\"ArithmeticError\", \"kelime\", \"takisima\"]\n",
    "liste = {}\n",
    "j = 0 \n",
    "for i in names:\n",
    "    liste[i] = j\n",
    "    j +=1\n",
    "print(liste)"
   ]
  },
  {
   "cell_type": "code",
   "execution_count": null,
   "metadata": {},
   "outputs": [
    {
     "name": "stdout",
     "output_type": "stream",
     "text": [
      "surfen : gezinme\n"
     ]
    }
   ],
   "source": [
    "Deutsh_Sözlük ={\"Adverbien\":{\n",
    "                    \"weiter\":\"ileri\",\n",
    "                    \"zurück\":\"geri\",\n",
    "                    \"fett\":\"kalin\"\n",
    "                    },\n",
    "                \"Verben\":{\n",
    "                    \"anklicken\":\"Tiklamak\",\n",
    "                    \"abbrechen\":\"Iptal etmek\",\n",
    "                    \"auswählen\":\"secmek\",\n",
    "                    \"aktualisieren\":\"yenilemek\",\n",
    "                    \"bearbeiten\":\"düzenleme\",\n",
    "                    \"annehmen\":\"kabul etmek\",\n",
    "                    \"anschließen\":\"baglamak\",\n",
    "                    \"anzeigen\":\"görüntüle\",\n",
    "                    \"ausblenden\":\"gizlemek\",\n",
    "                    \"einfügen\":\"yapistirmak\",\n",
    "                    \"entfernen\":\"silmek\",\n",
    "                    \"erstellen\":\"yaratmak\",\n",
    "                    \"formatieren\":\"formatlamak\",\n",
    "                    \"herunterladen\":\"indirmek\",\n",
    "                    \"hinzufügen\":\"eklemek\",\n",
    "                    \"kopieren\":\"kopyalamak\",\n",
    "                    \"laufen_lassen\":\"calistir\",\n",
    "                    \"sortieren\":\"siralamak\",\n",
    "                    \"surfen\":\"gezinme\",\n",
    "                    \"überprüfen\":\"test etmek\",\n",
    "                    \"verschieben\":\"tasimak- degistirmek\",   \n",
    "                    }\n",
    "    }\n",
    "kelime = input(\"aradiginiz almanca kelimeyi giriniz\").lower()\n",
    "x=0\n",
    "for i in Deutsh_Sözlük.values():\n",
    "    for j in i.items():\n",
    "        if j[0].lower() == kelime:\n",
    "            print(j[0],\":\",j[1])\n",
    "            x+=1\n",
    "if x==0:\n",
    "    print(\"aranan sayi yoktur\")\n",
    "    \n"
   ]
  },
  {
   "cell_type": "code",
   "execution_count": 72,
   "metadata": {},
   "outputs": [
    {
     "name": "stdout",
     "output_type": "stream",
     "text": [
      "variable : değişken\n",
      "aradiginiz kelime bulunamadi\n"
     ]
    }
   ],
   "source": [
    "# dictionary IT Deutsch : Türkisch\n",
    "# kelime  sorgulama programi\n",
    "python_dic = {\n",
    "    \"python_allgemein\":\n",
    "{\n",
    "    \"Programmiersprache\": \"Programa dili\",\n",
    "    \"objektorientierte\": \"nesne odakli\",\n",
    "    \"Sprache\": \"dil\",\n",
    "    \"Einrückung\": \"girinti\",\n",
    "    \"ein offenes gemeinschaftsbasiertes Entwicklungsmodell  \": \"acik kaynaklitopluluk temelli gelistirme moodeli\",\n",
    " },\n",
    "    \"Strukturen\":\n",
    "{\n",
    "        \"Datentypen\": \"veri tipleri\",\n",
    "        \"Variable\": \"değişken\",\n",
    "        \"Zeichenkette\": \"dizi\",\n",
    "        \"Mengen\": \"set /küme\",\n",
    "        \"assoziative Arrays\": \"Dictionaries/sözlükler\",\n",
    "        \"iterieren\": \"yenilemek/itere etmek\",\n",
    "        \"unveränderlichen \": \"degismez\",\n",
    "        \"eingetragenen Werte\": \"kaydedilmis  veriler\",\n",
    "        \"Vereinigung\": \"birlesim\",\n",
    "        \"Durchschnitt\": \"kesisim\",\n",
    "        \"Tabulatorzeichen\" : \"isaret \" \"  \"\n",
    " }\n",
    "}\n",
    "# Almanca girilen bir kelimenin sözlükte varsa Türkçe karşılığını yoksa \"sözlükte yoktur\" gibi bir mesajı yazdırmaya çalışalım...\n",
    "aranan_kelime = input(\"cevirmek istediginiz kelimeyi giirniz:\").lower()\n",
    "for k in python_dic.keys():\n",
    "    #print(k)\n",
    "    for k1 in python_dic[k]:\n",
    "        #print(k1)\n",
    "        if aranan_kelime == k1.lower():\n",
    "            print(aranan_kelime,\":\", python_dic[k][k1])\n",
    "else:\n",
    "    print(\"aradiginiz kelime bulunamadi\")"
   ]
  },
  {
   "cell_type": "code",
   "execution_count": 84,
   "metadata": {},
   "outputs": [
    {
     "ename": "SyntaxError",
     "evalue": "invalid syntax (4228724901.py, line 37)",
     "output_type": "error",
     "traceback": [
      "\u001b[1;36m  Cell \u001b[1;32mIn [84], line 37\u001b[1;36m\u001b[0m\n\u001b[1;33m    if else:\u001b[0m\n\u001b[1;37m       ^\u001b[0m\n\u001b[1;31mSyntaxError\u001b[0m\u001b[1;31m:\u001b[0m invalid syntax\n"
     ]
    }
   ],
   "source": [
    "Deutsh_Sözlük ={\"Adverbien\":{\n",
    "                    \"weiter\":\"ileri\",\n",
    "                    \"zurück\":\"geri\",\n",
    "                    \"fett\":\"kalin\"\n",
    "                    },\n",
    "                \"Verben\":{\n",
    "                    \"anklicken\":\"Tiklamak\",\n",
    "                    \"abbrechen\":\"Iptal etmek\",\n",
    "                    \"auswählen\":\"secmek\",\n",
    "                    \"aktualisieren\":\"yenilemek\",\n",
    "                    \"bearbeiten\":\"düzenleme\",\n",
    "                    \"annehmen\":\"kabul etmek\",\n",
    "                    \"anschließen\":\"baglamak\",\n",
    "                    \"anzeigen\":\"görüntüle\",\n",
    "                    \"ausblenden\":\"gizlemek\",\n",
    "                    \"einfügen\":\"yapistirmak\",\n",
    "                    \"entfernen\":\"silmek\",\n",
    "                    \"erstellen\":\"yaratmak\",\n",
    "                    \"formatieren\":\"formatlamak\",\n",
    "                    \"herunterladen\":\"indirmek\",\n",
    "                    \"hinzufügen\":\"eklemek\",\n",
    "                    \"kopieren\":\"kopyalamak\",\n",
    "                    \"laufen_lassen\":\"calistir\",\n",
    "                    \"sortieren\":\"siralamak\",\n",
    "                    \"surfen\":\"gezinme\",\n",
    "                    \"überprüfen\":\"test etmek\",\n",
    "                    \"verschieben\":\"tasimak- degistirmek\",   \n",
    "                    }\n",
    "    }\n",
    "kelime = input(\"aradiginiz almanca kelimeyi giriniz\").lower()\n",
    "x=0\n",
    "for i in Deutsh_Sözlük.keys():\n",
    "    for j in Deutsh_Sözlük[i]:\n",
    "        if j.lower() == kelime:\n",
    "            print(kelime,\":\",Deutsh_Sözlük[i][j])\n",
    "            x+=1\n",
    "if x==0:\n",
    "    print(\"aranan kelime yoktur\")\n",
    "    \n"
   ]
  }
 ],
 "metadata": {
  "kernelspec": {
   "display_name": "Python 3.10.7 64-bit (microsoft store)",
   "language": "python",
   "name": "python3"
  },
  "language_info": {
   "codemirror_mode": {
    "name": "ipython",
    "version": 3
   },
   "file_extension": ".py",
   "mimetype": "text/x-python",
   "name": "python",
   "nbconvert_exporter": "python",
   "pygments_lexer": "ipython3",
   "version": "3.10.7"
  },
  "orig_nbformat": 4,
  "vscode": {
   "interpreter": {
    "hash": "ba33de22a5821ff61dd53097cd70511c2f19fae7b0f9e8b27ee69b6aca2c4956"
   }
  }
 },
 "nbformat": 4,
 "nbformat_minor": 2
}
