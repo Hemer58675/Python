{
 "cells": [
  {
   "cell_type": "markdown",
   "metadata": {},
   "source": [
    "Task-15: X sayısının alabileceği değerler (çözüm) kümesi sayı doğrusu üzerinde gösterilmiştir.\n",
    "Buna göre girilen X değeri bu aralıkta ise “X sayı doğrusu üzerinde” değilse “X sayı doğrusu üzerinde değil” mesajını ekranda gösteren programı kodlayalım."
   ]
  },
  {
   "cell_type": "code",
   "execution_count": 5,
   "metadata": {},
   "outputs": [
    {
     "name": "stdout",
     "output_type": "stream",
     "text": [
      "13 sayi doğrusu üzerinde\n"
     ]
    }
   ],
   "source": [
    "x = int(input(\"sayi gir\"))\n",
    "if 12<=x<15:\n",
    "    print(f\"{x} sayi doğrusu üzerinde\")\n",
    "else:\n",
    "    print(f\"{x}sayi doğrusu üzerinde değil\")"
   ]
  },
  {
   "cell_type": "markdown",
   "metadata": {},
   "source": [
    "Task-16: TCDD trenlerinde bilet fiyatında yaşa göre yapılacak indirimler aşağıda  (https://www.tcddtasimacilik.gov.tr/sayfa/satis-kurallari/#:~:text=Tarife%20indirimleri,-Gen%C3%A7%20%15%3A%2013&text=60%2D64%20ya%C5%9F%20aras%C4%B1%20yolcular,karta%20sahip%20yolcular%20i%C3%A7in%20ge%C3%A7erlidir.) verilen verilere göre hesaplanmaktadır. Girilen yaş, meslek vs. kriterlerine göre indirimli bilet fiyatını gösteren programı kodlayalım.\n",
    "TCDD YHT ve Anahat trenlerinde halen uygulanmakta olan Tarife indirimleri;\n",
    "\n",
    "Genç %15: 13-26 yaşları arasında bulunan gençler faydalanabilmektedir\n",
    "\n",
    "Öğretmen% 15: Milli Eğitim Bakanlığına bağlı veya bu bakanlık tarafından onaylanmış her derece ve türdeki resmi ve özel okullarda halen çalışan tüm öğretmenlere (Müdür, müdür yardımcısı dahil), Yükseköğretim kuruluşlarında (üniversite, fakülte, enstitü, yüksekokul, konservatuar, meslek yüksekokulu, uygulama ve araştırma merkezlerinde) çalışan tüm öğretim elemanlarına, Türk uyruklu olup yabancı ülkelerde çalışan öğretmenlere uygulanmaktadır.\n",
    "\n",
    "60-64 yaş arası yolcular % 15: 60-64 yaş aralığında olan yolculara uygulanmaktadır.\n",
    "\n",
    "Yerli ve yabancı Basın Kartı sahipleri %15: Yerli ve yabancı basın mensuplarına Cumhurbaşkanlığı İletişim Başkanlığınca verilen karta sahip yolcular için geçerlidir.\n",
    "\n",
    "Personel %20: Çalışan TCDD/TCDD Taşımacılık A.Ş ve TÜRASAŞ personeli, eşi, çocukları ile bunların emeklisi ve eşine uygulanmaktadır\n",
    "\n",
    "Çocuk %50 : 7-12 yaş arası çocuklar için uygulanmaktadır. (Ayrı bir yer istenmemek koşuluyla 0-6 yaş (73 aydan gün almamış) çocuklar ücretsiz seyahat edebilir.)\n",
    "\n",
    "65 Yaş ve üzerindeki yolcular %50: YHT, Anahat trenlerinde 65 yaş ve üstü yolcular yararlanabilmektedir.\n",
    "\n",
    "Askeri yolcu % 15: Türk Silahlı kuvvetlerinde halen çalışmakta bulunan subay, astsubay ve askeri memurlara, NATO’nun askeri görevlilerine, uzman, uzatmalı çavuş, onbaşı ve erlere (sevk muhtırasız biletle yapacakları seyahatlerde) uygulanmaktadır."
   ]
  },
  {
   "cell_type": "code",
   "execution_count": 18,
   "metadata": {},
   "outputs": [
    {
     "name": "stdout",
     "output_type": "stream",
     "text": [
      "    LÜTFEN SADECE BIR TANE INDIRIM KODU GIRINIZ \n",
      "1 - Genç %15: 13-26 yaşları arasında bulunan gençler faydalanabilmektedir\n",
      "2 - Öğretmen% 15: Milli Eğitim Bakanlığına bağlı veya bu bakanlık tarafından onaylanmış her derece ve türdeki resmi ve özel okullarda halen çalışan tüm öğretmenlere (Müdür, müdür yardımcısı dahil), Yükseköğretim kuruluşlarında (üniversite, fakülte, enstitü, yüksekokul, konservatuar, meslek yüksekokulu, uygulama ve araştırma merkezlerinde) çalışan tüm öğretim elemanlarına, Türk uyruklu olup yabancı ülkelerde çalışan öğretmenlere uygulanmaktadır.\n",
      "3 - 60-64 yaş arası yolcular % 15: 60-64 yaş aralığında olan yolculara uygulanmaktadır.\n",
      "4 - Yerli ve yabancı Basın Kartı sahipleri %15: Yerli ve yabancı basın mensuplarına Cumhurbaşkanlığı İletişim Başkanlığınca verilen karta sahip yolcular için geçerlidir.\n",
      "5 - Personel %20: Çalışan TCDD/TCDD Taşımacılık A.Ş ve TÜRASAŞ personeli, eşi, çocukları ile bunların emeklisi ve eşine uygulanmaktadır\n",
      "6 - Çocuk %50 : 7-12 yaş arası çocuklar için uygulanmaktadır. (Ayrı bir yer istenmemek koşuluyla 0-6 yaş (73 aydan gün almamış) çocuklar ücretsiz seyahat edebilir.)\n",
      "7 - 65 Yaş ve üzerindeki yolcular %50: YHT, Anahat trenlerinde 65 yaş ve üstü yolcular yararlanabilmektedir.\n",
      "8 - Askeri yolcu % 15: Türk Silahlı kuvvetlerinde halen çalışmakta bulunan subay, astsubay ve askeri memurlara, NATO’nun askeri görevlilerine, uzman, uzatmalı çavuş, onbaşı ve erlere (sevk muhtırasız biletle yapacakları seyahatlerde) uygulanmaktadır.\n",
      "\n",
      " indirimli bilet  fiyati = 85 TL dir\n"
     ]
    }
   ],
   "source": [
    "print(\"\"\"    LÜTFEN SADECE BIR TANE INDIRIM KODU GIRINIZ \n",
    "1 - Genç %15: 13-26 yaşları arasında bulunan gençler faydalanabilmektedir\n",
    "2 - Öğretmen% 15: Milli Eğitim Bakanlığına bağlı veya bu bakanlık tarafından onaylanmış her derece ve türdeki resmi ve özel okullarda halen çalışan tüm öğretmenlere (Müdür, müdür yardımcısı dahil), Yükseköğretim kuruluşlarında (üniversite, fakülte, enstitü, yüksekokul, konservatuar, meslek yüksekokulu, uygulama ve araştırma merkezlerinde) çalışan tüm öğretim elemanlarına, Türk uyruklu olup yabancı ülkelerde çalışan öğretmenlere uygulanmaktadır.\n",
    "3 - 60-64 yaş arası yolcular % 15: 60-64 yaş aralığında olan yolculara uygulanmaktadır.\n",
    "4 - Yerli ve yabancı Basın Kartı sahipleri %15: Yerli ve yabancı basın mensuplarına Cumhurbaşkanlığı İletişim Başkanlığınca verilen karta sahip yolcular için geçerlidir.\n",
    "5 - Personel %20: Çalışan TCDD/TCDD Taşımacılık A.Ş ve TÜRASAŞ personeli, eşi, çocukları ile bunların emeklisi ve eşine uygulanmaktadır\n",
    "6 - Çocuk %50 : 7-12 yaş arası çocuklar için uygulanmaktadır. (Ayrı bir yer istenmemek koşuluyla 0-6 yaş (73 aydan gün almamış) çocuklar ücretsiz seyahat edebilir.)\n",
    "7 - 65 Yaş ve üzerindeki yolcular %50: YHT, Anahat trenlerinde 65 yaş ve üstü yolcular yararlanabilmektedir.\n",
    "8 - Askeri yolcu % 15: Türk Silahlı kuvvetlerinde halen çalışmakta bulunan subay, astsubay ve askeri memurlara, NATO’nun askeri görevlilerine, uzman, uzatmalı çavuş, onbaşı ve erlere (sevk muhtırasız biletle yapacakları seyahatlerde) uygulanmaktadır.\n",
    "\"\"\")\n",
    "\n",
    "bonus = int(input(\"ilgili maddenin basindaki kodu giriniz\"))\n",
    "Bilet = 100\n",
    "kupon = 1\n",
    "if bonus == 1 or 2 or 3 or 4 or 8:\n",
    "    kupon = .85\n",
    "elif bonus== 5:\n",
    "    kupon = .8\n",
    "elif bonus == 6 or 7:\n",
    "    kupon = .5\n",
    "else:\n",
    "    print(\"indirim kodu girilmedi\")\n",
    "print(f\" indirimli bilet  fiyati = {Bilet*kupon:.0f} TL dir\")"
   ]
  }
 ],
 "metadata": {
  "kernelspec": {
   "display_name": "Python 3.10.7 64-bit (microsoft store)",
   "language": "python",
   "name": "python3"
  },
  "language_info": {
   "codemirror_mode": {
    "name": "ipython",
    "version": 3
   },
   "file_extension": ".py",
   "mimetype": "text/x-python",
   "name": "python",
   "nbconvert_exporter": "python",
   "pygments_lexer": "ipython3",
   "version": "3.10.7"
  },
  "orig_nbformat": 4,
  "vscode": {
   "interpreter": {
    "hash": "ba33de22a5821ff61dd53097cd70511c2f19fae7b0f9e8b27ee69b6aca2c4956"
   }
  }
 },
 "nbformat": 4,
 "nbformat_minor": 2
}
