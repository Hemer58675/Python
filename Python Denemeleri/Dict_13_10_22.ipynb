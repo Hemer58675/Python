{
 "cells": [
  {
   "cell_type": "code",
   "execution_count": 3,
   "metadata": {},
   "outputs": [
    {
     "name": "stdout",
     "output_type": "stream",
     "text": [
      "[('name1', 'mustafa'), ('name2', 30), ('name 3', 3.14), ('name4', 'Kemal')]\n"
     ]
    }
   ],
   "source": [
    "family = {\"name1\":\"mustafa\",\n",
    "          \"name2\":30,\n",
    "          \"name 3\":3.14}\n",
    "family[\"name4\"] = \"Kemal\"\n",
    "\n",
    "# print(family.items(), \"\\n\")\n",
    "print(list(family.items()))"
   ]
  },
  {
   "cell_type": "code",
   "execution_count": 6,
   "metadata": {},
   "outputs": [
    {
     "name": "stdout",
     "output_type": "stream",
     "text": [
      "{'name1': 'mustafa', 'name2': 30, 'name 3': 3.14, 'name4': 'Kemal', 'name': 'ingo', 'is bad': False} \n",
      "\n",
      "{'name2': 30, 'name 3': 3.14, 'name4': 'Kemal', 'name': 'ingo', 'is bad': False}\n",
      "{'name 3': 3.14, 'name4': 'Kemal', 'name': 'ingo', 'is bad': False}\n"
     ]
    }
   ],
   "source": [
    "family = {\"name1\":\"mustafa\",\n",
    "          \"name2\":30,\n",
    "          \"name 3\":3.14}\n",
    "family[\"name4\"] = \"Kemal\"\n",
    "\n",
    "family.update({\"name\":\"ingo\",\"is bad\": False})\n",
    "\n",
    "print(family,\"\\n\")\n",
    "del family[\"name1\"]\n",
    "print(family)\n",
    "del family[\"name2\"]\n",
    "print(family)"
   ]
  },
  {
   "cell_type": "code",
   "execution_count": 7,
   "metadata": {},
   "outputs": [
    {
     "name": "stdout",
     "output_type": "stream",
     "text": [
      "{'name1': 'mustafa', 'name2': 30, 'name 3': 3.14} \n",
      "\n",
      "{'name 3': 3.14}\n"
     ]
    }
   ],
   "source": [
    "family = {\"name1\":\"mustafa\",\n",
    "          \"name2\":30,\n",
    "          \"name 3\":3.14}\n",
    "\n",
    "print(family,\"\\n\")\n",
    "del family[\"name1\"], family[\"name2\"]\n",
    "print(family)"
   ]
  },
  {
   "cell_type": "code",
   "execution_count": 8,
   "metadata": {},
   "outputs": [
    {
     "name": "stdout",
     "output_type": "stream",
     "text": [
      "{'name1': 'mustafa', 'name2': 30, 'name 3': 3.14} \n",
      "\n"
     ]
    },
    {
     "ename": "KeyError",
     "evalue": "'name4'",
     "output_type": "error",
     "traceback": [
      "\u001b[1;31m---------------------------------------------------------------------------\u001b[0m",
      "\u001b[1;31mKeyError\u001b[0m                                  Traceback (most recent call last)",
      "Cell \u001b[1;32mIn [8], line 6\u001b[0m\n\u001b[0;32m      1\u001b[0m family \u001b[39m=\u001b[39m {\u001b[39m\"\u001b[39m\u001b[39mname1\u001b[39m\u001b[39m\"\u001b[39m:\u001b[39m\"\u001b[39m\u001b[39mmustafa\u001b[39m\u001b[39m\"\u001b[39m,\n\u001b[0;32m      2\u001b[0m           \u001b[39m\"\u001b[39m\u001b[39mname2\u001b[39m\u001b[39m\"\u001b[39m:\u001b[39m30\u001b[39m,\n\u001b[0;32m      3\u001b[0m           \u001b[39m\"\u001b[39m\u001b[39mname 3\u001b[39m\u001b[39m\"\u001b[39m:\u001b[39m3.14\u001b[39m}\n\u001b[0;32m      5\u001b[0m \u001b[39mprint\u001b[39m(family,\u001b[39m\"\u001b[39m\u001b[39m\\n\u001b[39;00m\u001b[39m\"\u001b[39m)\n\u001b[1;32m----> 6\u001b[0m \u001b[39mdel\u001b[39;00m family[\u001b[39m\"\u001b[39m\u001b[39mname4\u001b[39m\u001b[39m\"\u001b[39m]\n\u001b[0;32m      7\u001b[0m \u001b[39mprint\u001b[39m(family)\n",
      "\u001b[1;31mKeyError\u001b[0m: 'name4'"
     ]
    }
   ],
   "source": [
    "family = {\"name1\":\"mustafa\",\n",
    "          \"name2\":30,\n",
    "          \"name 3\":3.14}\n",
    "\n",
    "print(family,\"\\n\")\n",
    "del family[\"name4\"] # bekommen wir KeyEror\n",
    "print(family)"
   ]
  },
  {
   "cell_type": "code",
   "execution_count": 11,
   "metadata": {},
   "outputs": [
    {
     "name": "stdout",
     "output_type": "stream",
     "text": [
      "{'name2': 30, 'name 3': 3.14} \n",
      "\n"
     ]
    }
   ],
   "source": [
    "family = {\"name1\":\"mustafa\",\n",
    "          \"name2\":30,\n",
    "          \"name 3\":3.14}\n",
    "family.pop(\"name1\")\n",
    "print(family,\"\\n\")\n"
   ]
  },
  {
   "cell_type": "code",
   "execution_count": 12,
   "metadata": {},
   "outputs": [
    {
     "name": "stdout",
     "output_type": "stream",
     "text": [
      "Geloschte data mustafa \n",
      "\n",
      "{'name2': 30, 'name 3': 3.14} \n",
      "\n"
     ]
    }
   ],
   "source": [
    "family = {\"name1\":\"mustafa\",\n",
    "          \"name2\":30,\n",
    "          \"name 3\":3.14}\n",
    "\n",
    "print(\"Geloschte data\",family.pop(\"name1\"),\"\\n\")\n",
    "print(family,\"\\n\")\n"
   ]
  },
  {
   "cell_type": "code",
   "execution_count": 16,
   "metadata": {},
   "outputs": [
    {
     "name": "stdout",
     "output_type": "stream",
     "text": [
      " Es gibt kein mehr  da\n",
      "{'name1': 'mustafa', 'name2': 30, 'name 3': 3.14} \n",
      "\n"
     ]
    }
   ],
   "source": [
    "family = {\"name1\":\"mustafa\",\n",
    "          \"name2\":30,\n",
    "          \"name 3\":3.14}\n",
    "\n",
    "x = family.pop(\"name4\", \" Es gibt kein mehr  da\")\n",
    "print(x)\n",
    "print(family,\"\\n\")"
   ]
  },
  {
   "cell_type": "code",
   "execution_count": 21,
   "metadata": {},
   "outputs": [
    {
     "name": "stdout",
     "output_type": "stream",
     "text": [
      "['name1', 'name2', 'name 3']\n",
      "[('name1', 'mustafa'), ('name2', 30), ('name 3', 3.14)]\n"
     ]
    }
   ],
   "source": [
    "#dict to list\n",
    "family = {\"name1\":\"mustafa\",\n",
    "          \"name2\":30,\n",
    "          \"name 3\":3.14}\n",
    "list_family = list(family)\n",
    "print(list_family)\n",
    "list_family = list(family.items())\n",
    "print(list_family)"
   ]
  },
  {
   "cell_type": "code",
   "execution_count": 23,
   "metadata": {},
   "outputs": [
    {
     "name": "stdout",
     "output_type": "stream",
     "text": [
      "[('name1', 'mustafa'), ('name2', 30), ('name 3', 3.14)]\n",
      "[('name1', 'mustafa')]\n",
      "{'name1': 'mustafa'}\n"
     ]
    }
   ],
   "source": [
    "#dict del\n",
    "family = {\"name1\":\"mustafa\",\n",
    "          \"name2\":30,\n",
    "          \"name 3\":3.14}\n",
    "\n",
    "list_family = list(family.items())\n",
    "print(list_family)\n",
    "del list_family[1:3]\n",
    "print(list_family)\n",
    "family = dict(list_family)\n",
    "print(family)"
   ]
  },
  {
   "cell_type": "code",
   "execution_count": 27,
   "metadata": {},
   "outputs": [
    {
     "name": "stdout",
     "output_type": "stream",
     "text": [
      "('name 3', 3.14)\n",
      "{'name1': 'mustafa', 'name2': 30}\n"
     ]
    }
   ],
   "source": [
    "family = {\"name1\":\"mustafa\",\n",
    "          \"name2\":30,\n",
    "          \"name 3\":3.14}\n",
    "\n",
    "\n",
    "print(family.popitem())\n",
    "print(family)"
   ]
  },
  {
   "cell_type": "code",
   "execution_count": 36,
   "metadata": {},
   "outputs": [
    {
     "name": "stdout",
     "output_type": "stream",
     "text": [
      "{'coding': 80, 'math': 89}\n",
      "[('coding', 80), ('math', 89)]\n"
     ]
    }
   ],
   "source": [
    "# Joseph notes\n",
    "school_records={\n",
    "\t'personal_info':\n",
    "\t\t{'kid':{'tom':{'class':'intermediate', 'age':10},\n",
    "\t\t\t'sue':{'class':'elemantary', 'age':8}\n",
    "\t\t\t},\n",
    "\t\t'teen':{'joseph':{'class':'college', 'age':19},\n",
    "\t\t\t'marry':{'class':'high school', 'age':16}\n",
    "\t\t\t},\n",
    "\t\t},\n",
    "\t'grades_info':\n",
    "\t\t{'kid':{'tom':{'math':88, 'speech':69},\n",
    "\t\t\t'sue':{'math':90, 'speech':81}\n",
    "\t\t\t},\n",
    "\t\t'teen':{'joseph':{'coding':80, 'math':89},\n",
    "\t\t\t'marry':{'coding':70, 'math':96}\n",
    "\t\t\t},\n",
    "\t\t}\n",
    "}\n",
    "print(school_records[\"grades_info\"][\"teen\"][\"joseph\"])\n",
    "print(list(school_records[\"grades_info\"][\"teen\"][\"joseph\"].items()))"
   ]
  },
  {
   "cell_type": "code",
   "execution_count": 37,
   "metadata": {},
   "outputs": [
    {
     "name": "stdout",
     "output_type": "stream",
     "text": [
      "{'friend1': {'first': 'Sue', 'last': 'Bold'}, 'friend2': {'first': 'Steve', 'last': 'smiht'}}\n"
     ]
    }
   ],
   "source": [
    "frends={\n",
    "    \"friend1\":{\"first\":\"Sue\",\"last\":\"Bold\"},\n",
    "    \"friend2\":{\"first\":\"Steve\",\"last\":\"smiht\"}\n",
    "}\n",
    "print(frends)"
   ]
  },
  {
   "cell_type": "code",
   "execution_count": 38,
   "metadata": {},
   "outputs": [
    {
     "name": "stdout",
     "output_type": "stream",
     "text": [
      "{'frends': {'friend1': {'first': 'Sue', 'last': 'Bold'}, 'friend2': {'first': 'Steve', 'last': 'smiht'}}, 'family': {'family': {'family1': {'first': 'latif', 'last': 'yildir'}, 'family2': {'first': 'ali', 'last': 'yildir'}, 'family3': {'first': 'veli', 'last': 'yildir'}}}}\n"
     ]
    }
   ],
   "source": [
    "favorite ={\n",
    "    \"frends\":{\n",
    "        \"friend1\":{\"first\":\"Sue\",\"last\":\"Bold\"},\n",
    "        \"friend2\":{\"first\":\"Steve\",\"last\":\"smiht\"}\n",
    "        },\n",
    "    \"family\":{\n",
    "        \"family1\":{\"first\":\"latif\",\"last\":\"yildir\"},\n",
    "        \"family2\":{\"first\":\"ali\",\"last\":\"yildir\"},\n",
    "        \"family3\":{\"first\":\"veli\",\"last\":\"yildir\"}\n",
    "        }\n",
    "}      \n",
    "print(favorite)"
   ]
  },
  {
   "cell_type": "code",
   "execution_count": 40,
   "metadata": {},
   "outputs": [
    {
     "name": "stdout",
     "output_type": "stream",
     "text": [
      "deletete {'first': 'veli', 'last': 'yildir'}\n",
      "\n",
      "{'frends': {'friend1': {'first': 'Sue', 'last': 'Bold'}, 'friend2': {'first': 'Steve', 'last': 'smiht'}}, 'family': {'family1': {'first': 'latif', 'last': 'yildir'}, 'family2': {'first': 'ali', 'last': 'yildir'}, 'family3': {'first': 'veli', 'last': 'yildir'}}}\n"
     ]
    }
   ],
   "source": [
    "favorite ={\n",
    "    \"frends\":{\n",
    "        \"friend1\":{\"first\":\"Sue\",\"last\":\"Bold\"},\n",
    "        \"friend2\":{\"first\":\"Steve\",\"last\":\"smiht\"}\n",
    "        },\n",
    "    \"family\":{\n",
    "        \"family1\":{\"first\":\"latif\",\"last\":\"yildir\"},\n",
    "        \"family2\":{\"first\":\"ali\",\"last\":\"yildir\"},\n",
    "        \"family3\":{\"first\":\"veli\",\"last\":\"yildir\"}\n",
    "        }\n",
    "}      \n",
    "\n",
    "del_family3 = del favorite[\"family\"][\"family3\"]\n",
    "print(\"deletete\", del_family3)\n",
    "print()\n",
    "print(favorite)"
   ]
  },
  {
   "cell_type": "code",
   "execution_count": null,
   "metadata": {},
   "outputs": [],
   "source": [
    "dt[2][\"bar\"][\"y\"]"
   ]
  },
  {
   "cell_type": "code",
   "execution_count": 45,
   "metadata": {},
   "outputs": [
    {
     "name": "stdout",
     "output_type": "stream",
     "text": [
      "{'violet', 'carnation', 'rose', 'orchid'}\n",
      "{'violet', 'carnation', 'rose', 'orchid'}\n"
     ]
    }
   ],
   "source": [
    "a = {\"rose\", \"violet\", \"carnation\", \"orchid\"}\n",
    "b = {\"violet\",\"rose\",\"carnation\", \"rose\", \"orchid\"}\n",
    "print(a)\n",
    "print(set(b))\n"
   ]
  },
  {
   "cell_type": "code",
   "execution_count": 47,
   "metadata": {},
   "outputs": [
    {
     "name": "stdout",
     "output_type": "stream",
     "text": [
      "{'d', 'n', 'h', 'p', 'o', 'i', 'l'}\n"
     ]
    }
   ],
   "source": [
    "b = set(\"dolphin\")\n",
    "print(b)"
   ]
  },
  {
   "cell_type": "code",
   "execution_count": 46,
   "metadata": {},
   "outputs": [
    {
     "name": "stdout",
     "output_type": "stream",
     "text": [
      "{'d', 'h', 'p', 'a', 'i', 'e', 'l'}\n"
     ]
    }
   ],
   "source": [
    "a = set(\"philadelphia\")\n",
    "print(a)"
   ]
  },
  {
   "cell_type": "code",
   "execution_count": 50,
   "metadata": {},
   "outputs": [
    {
     "name": "stdout",
     "output_type": "stream",
     "text": [
      "{'a', 'e'}\n",
      "{'o', 'n'}\n"
     ]
    }
   ],
   "source": [
    "print(a-b)\n",
    "print(b-a)"
   ]
  },
  {
   "cell_type": "code",
   "execution_count": 51,
   "metadata": {},
   "outputs": [
    {
     "name": "stdout",
     "output_type": "stream",
     "text": [
      "{'a', 'e'}\n",
      "{'o', 'n'}\n"
     ]
    }
   ],
   "source": [
    "print(a.difference(b))\n",
    "print(b.difference(a))"
   ]
  },
  {
   "cell_type": "code",
   "execution_count": 53,
   "metadata": {},
   "outputs": [
    {
     "name": "stdout",
     "output_type": "stream",
     "text": [
      "{'d', 'n', 'h', 'p', 'o', 'a', 'i', 'e', 'l'}\n",
      "{'d', 'n', 'h', 'p', 'o', 'a', 'i', 'e', 'l'}\n"
     ]
    }
   ],
   "source": [
    "print(a|b)\n",
    "print(a.union(b))"
   ]
  },
  {
   "cell_type": "code",
   "execution_count": 56,
   "metadata": {},
   "outputs": [
    {
     "name": "stdout",
     "output_type": "stream",
     "text": [
      "{'d', 'h', 'p', 'i', 'l'}\n",
      "{'d', 'h', 'p', 'i', 'l'}\n"
     ]
    }
   ],
   "source": [
    "print(a.intersection(b))\n",
    "print(a&b)"
   ]
  },
  {
   "cell_type": "code",
   "execution_count": 57,
   "metadata": {},
   "outputs": [
    {
     "name": "stdout",
     "output_type": "stream",
     "text": [
      "{'/', 'm', 'd', 'y'}\n",
      "{'mm/dd/yyyy'}\n"
     ]
    }
   ],
   "source": [
    "s = set(\"mm/dd/yyyy\")\n",
    "d = {\"mm/dd/yyyy\"}\n",
    "print(s)\n",
    "print(d)"
   ]
  },
  {
   "cell_type": "code",
   "execution_count": 58,
   "metadata": {},
   "outputs": [
    {
     "name": "stdout",
     "output_type": "stream",
     "text": [
      " leider\n"
     ]
    }
   ],
   "source": [
    "a = set(\"robin\")\n",
    "b = set(\"Susanna\")\n",
    "print(a.isdisjoint(b) and \"die sind nicht gleich\" or \" leider\")"
   ]
  },
  {
   "cell_type": "code",
   "execution_count": 60,
   "metadata": {},
   "outputs": [
    {
     "name": "stdout",
     "output_type": "stream",
     "text": [
      "{1, 2, 3, 4, 5, 6}\n",
      "[1, 2, 3, 4, 5, 6]\n"
     ]
    }
   ],
   "source": [
    "given_list = [1,2,3,4,3,3,5,6]\n",
    "print(set(given_list))\n",
    "li = set(given_list)\n",
    "li = list(li)\n",
    "print(li)"
   ]
  },
  {
   "cell_type": "code",
   "execution_count": 61,
   "metadata": {},
   "outputs": [
    {
     "name": "stdout",
     "output_type": "stream",
     "text": [
      "{1, 2, 3, 4, 5, 6}\n",
      "[1, 2, 3, 4, 5, 6]\n"
     ]
    }
   ],
   "source": [
    "given_list = [1,2,3,4,3,3,5,6]\n",
    "print(set(given_list))\n",
    "print(list(set(given_list)))"
   ]
  },
  {
   "cell_type": "code",
   "execution_count": 64,
   "metadata": {},
   "outputs": [
    {
     "name": "stdout",
     "output_type": "stream",
     "text": [
      "{'n', 'o', 't', 'i', 'g', 'W'}\n",
      "{'n', 'h', 'o', 't', 'i', 'g', 'e', 's', 'l', 'a', 'W'}\n",
      "{'n', 'h', 'o', 't', 'a', 'i', 'g', 'e', 's', 'l', 'W'}\n",
      "{'h', 's', 'a'}\n"
     ]
    }
   ],
   "source": [
    "x = set(\"Washington\")\n",
    "y = set(\"Wellington\")\n",
    "print(x.intersection(y))\n",
    "print(x.union(y))\n",
    "print(y.union(x))\n",
    "print(x.difference(y))"
   ]
  },
  {
   "cell_type": "code",
   "execution_count": 69,
   "metadata": {},
   "outputs": [
    {
     "ename": "AttributeError",
     "evalue": "'frozenset' object has no attribute 'add'",
     "output_type": "error",
     "traceback": [
      "\u001b[1;31m---------------------------------------------------------------------------\u001b[0m",
      "\u001b[1;31mAttributeError\u001b[0m                            Traceback (most recent call last)",
      "Cell \u001b[1;32mIn [69], line 5\u001b[0m\n\u001b[0;32m      3\u001b[0m x\u001b[39m.\u001b[39madd(\u001b[39m\"\u001b[39m\u001b[39mnew jersey\u001b[39m\u001b[39m\"\u001b[39m)\n\u001b[0;32m      4\u001b[0m y \u001b[39m=\u001b[39m \u001b[39mfrozenset\u001b[39m(x)\n\u001b[1;32m----> 5\u001b[0m y\u001b[39m.\u001b[39;49madd(\u001b[39m\"\u001b[39m\u001b[39mnoch\u001b[39m\u001b[39m\"\u001b[39m)\n\u001b[0;32m      7\u001b[0m \u001b[39mprint\u001b[39m(y)\n",
      "\u001b[1;31mAttributeError\u001b[0m: 'frozenset' object has no attribute 'add'"
     ]
    }
   ],
   "source": [
    "# x = {\"Washington\",\"new york\"}\n",
    "x = {\"Washington\",\"new york\"}\n",
    "x.add(\"new jersey\")\n",
    "y = frozenset(x)\n",
    "y.add(\"noch\") # Das ist unmöglich.\n",
    "\n",
    "print(y)"
   ]
  },
  {
   "cell_type": "code",
   "execution_count": 70,
   "metadata": {},
   "outputs": [
    {
     "name": "stdout",
     "output_type": "stream",
     "text": [
      "Help on class set in module builtins:\n",
      "\n",
      "class set(object)\n",
      " |  set() -> new empty set object\n",
      " |  set(iterable) -> new set object\n",
      " |  \n",
      " |  Build an unordered collection of unique elements.\n",
      " |  \n",
      " |  Methods defined here:\n",
      " |  \n",
      " |  __and__(self, value, /)\n",
      " |      Return self&value.\n",
      " |  \n",
      " |  __contains__(...)\n",
      " |      x.__contains__(y) <==> y in x.\n",
      " |  \n",
      " |  __eq__(self, value, /)\n",
      " |      Return self==value.\n",
      " |  \n",
      " |  __ge__(self, value, /)\n",
      " |      Return self>=value.\n",
      " |  \n",
      " |  __getattribute__(self, name, /)\n",
      " |      Return getattr(self, name).\n",
      " |  \n",
      " |  __gt__(self, value, /)\n",
      " |      Return self>value.\n",
      " |  \n",
      " |  __iand__(self, value, /)\n",
      " |      Return self&=value.\n",
      " |  \n",
      " |  __init__(self, /, *args, **kwargs)\n",
      " |      Initialize self.  See help(type(self)) for accurate signature.\n",
      " |  \n",
      " |  __ior__(self, value, /)\n",
      " |      Return self|=value.\n",
      " |  \n",
      " |  __isub__(self, value, /)\n",
      " |      Return self-=value.\n",
      " |  \n",
      " |  __iter__(self, /)\n",
      " |      Implement iter(self).\n",
      " |  \n",
      " |  __ixor__(self, value, /)\n",
      " |      Return self^=value.\n",
      " |  \n",
      " |  __le__(self, value, /)\n",
      " |      Return self<=value.\n",
      " |  \n",
      " |  __len__(self, /)\n",
      " |      Return len(self).\n",
      " |  \n",
      " |  __lt__(self, value, /)\n",
      " |      Return self<value.\n",
      " |  \n",
      " |  __ne__(self, value, /)\n",
      " |      Return self!=value.\n",
      " |  \n",
      " |  __or__(self, value, /)\n",
      " |      Return self|value.\n",
      " |  \n",
      " |  __rand__(self, value, /)\n",
      " |      Return value&self.\n",
      " |  \n",
      " |  __reduce__(...)\n",
      " |      Return state information for pickling.\n",
      " |  \n",
      " |  __repr__(self, /)\n",
      " |      Return repr(self).\n",
      " |  \n",
      " |  __ror__(self, value, /)\n",
      " |      Return value|self.\n",
      " |  \n",
      " |  __rsub__(self, value, /)\n",
      " |      Return value-self.\n",
      " |  \n",
      " |  __rxor__(self, value, /)\n",
      " |      Return value^self.\n",
      " |  \n",
      " |  __sizeof__(...)\n",
      " |      S.__sizeof__() -> size of S in memory, in bytes\n",
      " |  \n",
      " |  __sub__(self, value, /)\n",
      " |      Return self-value.\n",
      " |  \n",
      " |  __xor__(self, value, /)\n",
      " |      Return self^value.\n",
      " |  \n",
      " |  add(...)\n",
      " |      Add an element to a set.\n",
      " |      \n",
      " |      This has no effect if the element is already present.\n",
      " |  \n",
      " |  clear(...)\n",
      " |      Remove all elements from this set.\n",
      " |  \n",
      " |  copy(...)\n",
      " |      Return a shallow copy of a set.\n",
      " |  \n",
      " |  difference(...)\n",
      " |      Return the difference of two or more sets as a new set.\n",
      " |      \n",
      " |      (i.e. all elements that are in this set but not the others.)\n",
      " |  \n",
      " |  difference_update(...)\n",
      " |      Remove all elements of another set from this set.\n",
      " |  \n",
      " |  discard(...)\n",
      " |      Remove an element from a set if it is a member.\n",
      " |      \n",
      " |      If the element is not a member, do nothing.\n",
      " |  \n",
      " |  intersection(...)\n",
      " |      Return the intersection of two sets as a new set.\n",
      " |      \n",
      " |      (i.e. all elements that are in both sets.)\n",
      " |  \n",
      " |  intersection_update(...)\n",
      " |      Update a set with the intersection of itself and another.\n",
      " |  \n",
      " |  isdisjoint(...)\n",
      " |      Return True if two sets have a null intersection.\n",
      " |  \n",
      " |  issubset(...)\n",
      " |      Report whether another set contains this set.\n",
      " |  \n",
      " |  issuperset(...)\n",
      " |      Report whether this set contains another set.\n",
      " |  \n",
      " |  pop(...)\n",
      " |      Remove and return an arbitrary set element.\n",
      " |      Raises KeyError if the set is empty.\n",
      " |  \n",
      " |  remove(...)\n",
      " |      Remove an element from a set; it must be a member.\n",
      " |      \n",
      " |      If the element is not a member, raise a KeyError.\n",
      " |  \n",
      " |  symmetric_difference(...)\n",
      " |      Return the symmetric difference of two sets as a new set.\n",
      " |      \n",
      " |      (i.e. all elements that are in exactly one of the sets.)\n",
      " |  \n",
      " |  symmetric_difference_update(...)\n",
      " |      Update a set with the symmetric difference of itself and another.\n",
      " |  \n",
      " |  union(...)\n",
      " |      Return the union of sets as a new set.\n",
      " |      \n",
      " |      (i.e. all elements that are in either set.)\n",
      " |  \n",
      " |  update(...)\n",
      " |      Update a set with the union of itself and others.\n",
      " |  \n",
      " |  ----------------------------------------------------------------------\n",
      " |  Class methods defined here:\n",
      " |  \n",
      " |  __class_getitem__(...) from builtins.type\n",
      " |      See PEP 585\n",
      " |  \n",
      " |  ----------------------------------------------------------------------\n",
      " |  Static methods defined here:\n",
      " |  \n",
      " |  __new__(*args, **kwargs) from builtins.type\n",
      " |      Create and return a new object.  See help(type) for accurate signature.\n",
      " |  \n",
      " |  ----------------------------------------------------------------------\n",
      " |  Data and other attributes defined here:\n",
      " |  \n",
      " |  __hash__ = None\n",
      "\n",
      "None\n"
     ]
    }
   ],
   "source": [
    "print(help(set))"
   ]
  },
  {
   "cell_type": "code",
   "execution_count": 71,
   "metadata": {},
   "outputs": [
    {
     "name": "stdout",
     "output_type": "stream",
     "text": [
      "Help on class frozenset in module builtins:\n",
      "\n",
      "class frozenset(object)\n",
      " |  frozenset() -> empty frozenset object\n",
      " |  frozenset(iterable) -> frozenset object\n",
      " |  \n",
      " |  Build an immutable unordered collection of unique elements.\n",
      " |  \n",
      " |  Methods defined here:\n",
      " |  \n",
      " |  __and__(self, value, /)\n",
      " |      Return self&value.\n",
      " |  \n",
      " |  __contains__(...)\n",
      " |      x.__contains__(y) <==> y in x.\n",
      " |  \n",
      " |  __eq__(self, value, /)\n",
      " |      Return self==value.\n",
      " |  \n",
      " |  __ge__(self, value, /)\n",
      " |      Return self>=value.\n",
      " |  \n",
      " |  __getattribute__(self, name, /)\n",
      " |      Return getattr(self, name).\n",
      " |  \n",
      " |  __gt__(self, value, /)\n",
      " |      Return self>value.\n",
      " |  \n",
      " |  __hash__(self, /)\n",
      " |      Return hash(self).\n",
      " |  \n",
      " |  __iter__(self, /)\n",
      " |      Implement iter(self).\n",
      " |  \n",
      " |  __le__(self, value, /)\n",
      " |      Return self<=value.\n",
      " |  \n",
      " |  __len__(self, /)\n",
      " |      Return len(self).\n",
      " |  \n",
      " |  __lt__(self, value, /)\n",
      " |      Return self<value.\n",
      " |  \n",
      " |  __ne__(self, value, /)\n",
      " |      Return self!=value.\n",
      " |  \n",
      " |  __or__(self, value, /)\n",
      " |      Return self|value.\n",
      " |  \n",
      " |  __rand__(self, value, /)\n",
      " |      Return value&self.\n",
      " |  \n",
      " |  __reduce__(...)\n",
      " |      Return state information for pickling.\n",
      " |  \n",
      " |  __repr__(self, /)\n",
      " |      Return repr(self).\n",
      " |  \n",
      " |  __ror__(self, value, /)\n",
      " |      Return value|self.\n",
      " |  \n",
      " |  __rsub__(self, value, /)\n",
      " |      Return value-self.\n",
      " |  \n",
      " |  __rxor__(self, value, /)\n",
      " |      Return value^self.\n",
      " |  \n",
      " |  __sizeof__(...)\n",
      " |      S.__sizeof__() -> size of S in memory, in bytes\n",
      " |  \n",
      " |  __sub__(self, value, /)\n",
      " |      Return self-value.\n",
      " |  \n",
      " |  __xor__(self, value, /)\n",
      " |      Return self^value.\n",
      " |  \n",
      " |  copy(...)\n",
      " |      Return a shallow copy of a set.\n",
      " |  \n",
      " |  difference(...)\n",
      " |      Return the difference of two or more sets as a new set.\n",
      " |      \n",
      " |      (i.e. all elements that are in this set but not the others.)\n",
      " |  \n",
      " |  intersection(...)\n",
      " |      Return the intersection of two sets as a new set.\n",
      " |      \n",
      " |      (i.e. all elements that are in both sets.)\n",
      " |  \n",
      " |  isdisjoint(...)\n",
      " |      Return True if two sets have a null intersection.\n",
      " |  \n",
      " |  issubset(...)\n",
      " |      Report whether another set contains this set.\n",
      " |  \n",
      " |  issuperset(...)\n",
      " |      Report whether this set contains another set.\n",
      " |  \n",
      " |  symmetric_difference(...)\n",
      " |      Return the symmetric difference of two sets as a new set.\n",
      " |      \n",
      " |      (i.e. all elements that are in exactly one of the sets.)\n",
      " |  \n",
      " |  union(...)\n",
      " |      Return the union of sets as a new set.\n",
      " |      \n",
      " |      (i.e. all elements that are in either set.)\n",
      " |  \n",
      " |  ----------------------------------------------------------------------\n",
      " |  Class methods defined here:\n",
      " |  \n",
      " |  __class_getitem__(...) from builtins.type\n",
      " |      See PEP 585\n",
      " |  \n",
      " |  ----------------------------------------------------------------------\n",
      " |  Static methods defined here:\n",
      " |  \n",
      " |  __new__(*args, **kwargs) from builtins.type\n",
      " |      Create and return a new object.  See help(type) for accurate signature.\n",
      "\n"
     ]
    }
   ],
   "source": [
    "help(frozenset)"
   ]
  },
  {
   "cell_type": "code",
   "execution_count": 74,
   "metadata": {},
   "outputs": [
    {
     "name": "stdout",
     "output_type": "stream",
     "text": [
      "None\n"
     ]
    }
   ],
   "source": [
    "x = {\"Washington\", \"new\", \"york\"}\n",
    "# x.add(\"new jersey\")\n",
    "print(x.remove(\"new\"))\n",
    "# y = frozenset(x)"
   ]
  },
  {
   "cell_type": "code",
   "execution_count": 75,
   "metadata": {},
   "outputs": [
    {
     "data": {
      "text/plain": [
       "['__add__',\n",
       " '__class__',\n",
       " '__contains__',\n",
       " '__delattr__',\n",
       " '__dir__',\n",
       " '__doc__',\n",
       " '__eq__',\n",
       " '__format__',\n",
       " '__ge__',\n",
       " '__getattribute__',\n",
       " '__getitem__',\n",
       " '__getnewargs__',\n",
       " '__gt__',\n",
       " '__hash__',\n",
       " '__init__',\n",
       " '__init_subclass__',\n",
       " '__iter__',\n",
       " '__le__',\n",
       " '__len__',\n",
       " '__lt__',\n",
       " '__mod__',\n",
       " '__mul__',\n",
       " '__ne__',\n",
       " '__new__',\n",
       " '__reduce__',\n",
       " '__reduce_ex__',\n",
       " '__repr__',\n",
       " '__rmod__',\n",
       " '__rmul__',\n",
       " '__setattr__',\n",
       " '__sizeof__',\n",
       " '__str__',\n",
       " '__subclasshook__',\n",
       " 'capitalize',\n",
       " 'casefold',\n",
       " 'center',\n",
       " 'count',\n",
       " 'encode',\n",
       " 'endswith',\n",
       " 'expandtabs',\n",
       " 'find',\n",
       " 'format',\n",
       " 'format_map',\n",
       " 'index',\n",
       " 'isalnum',\n",
       " 'isalpha',\n",
       " 'isascii',\n",
       " 'isdecimal',\n",
       " 'isdigit',\n",
       " 'isidentifier',\n",
       " 'islower',\n",
       " 'isnumeric',\n",
       " 'isprintable',\n",
       " 'isspace',\n",
       " 'istitle',\n",
       " 'isupper',\n",
       " 'join',\n",
       " 'ljust',\n",
       " 'lower',\n",
       " 'lstrip',\n",
       " 'maketrans',\n",
       " 'partition',\n",
       " 'removeprefix',\n",
       " 'removesuffix',\n",
       " 'replace',\n",
       " 'rfind',\n",
       " 'rindex',\n",
       " 'rjust',\n",
       " 'rpartition',\n",
       " 'rsplit',\n",
       " 'rstrip',\n",
       " 'split',\n",
       " 'splitlines',\n",
       " 'startswith',\n",
       " 'strip',\n",
       " 'swapcase',\n",
       " 'title',\n",
       " 'translate',\n",
       " 'upper',\n",
       " 'zfill']"
      ]
     },
     "execution_count": 75,
     "metadata": {},
     "output_type": "execute_result"
    }
   ],
   "source": [
    "dir(str)"
   ]
  },
  {
   "cell_type": "code",
   "execution_count": 76,
   "metadata": {},
   "outputs": [
    {
     "data": {
      "text/plain": [
       "['__and__',\n",
       " '__class__',\n",
       " '__class_getitem__',\n",
       " '__contains__',\n",
       " '__delattr__',\n",
       " '__dir__',\n",
       " '__doc__',\n",
       " '__eq__',\n",
       " '__format__',\n",
       " '__ge__',\n",
       " '__getattribute__',\n",
       " '__gt__',\n",
       " '__hash__',\n",
       " '__iand__',\n",
       " '__init__',\n",
       " '__init_subclass__',\n",
       " '__ior__',\n",
       " '__isub__',\n",
       " '__iter__',\n",
       " '__ixor__',\n",
       " '__le__',\n",
       " '__len__',\n",
       " '__lt__',\n",
       " '__ne__',\n",
       " '__new__',\n",
       " '__or__',\n",
       " '__rand__',\n",
       " '__reduce__',\n",
       " '__reduce_ex__',\n",
       " '__repr__',\n",
       " '__ror__',\n",
       " '__rsub__',\n",
       " '__rxor__',\n",
       " '__setattr__',\n",
       " '__sizeof__',\n",
       " '__str__',\n",
       " '__sub__',\n",
       " '__subclasshook__',\n",
       " '__xor__',\n",
       " 'add',\n",
       " 'clear',\n",
       " 'copy',\n",
       " 'difference',\n",
       " 'difference_update',\n",
       " 'discard',\n",
       " 'intersection',\n",
       " 'intersection_update',\n",
       " 'isdisjoint',\n",
       " 'issubset',\n",
       " 'issuperset',\n",
       " 'pop',\n",
       " 'remove',\n",
       " 'symmetric_difference',\n",
       " 'symmetric_difference_update',\n",
       " 'union',\n",
       " 'update']"
      ]
     },
     "execution_count": 76,
     "metadata": {},
     "output_type": "execute_result"
    }
   ],
   "source": [
    "dir(set)"
   ]
  }
 ],
 "metadata": {
  "kernelspec": {
   "display_name": "Python 3.10.7 64-bit (microsoft store)",
   "language": "python",
   "name": "python3"
  },
  "language_info": {
   "codemirror_mode": {
    "name": "ipython",
    "version": 3
   },
   "file_extension": ".py",
   "mimetype": "text/x-python",
   "name": "python",
   "nbconvert_exporter": "python",
   "pygments_lexer": "ipython3",
   "version": "3.10.7"
  },
  "orig_nbformat": 4,
  "vscode": {
   "interpreter": {
    "hash": "ba33de22a5821ff61dd53097cd70511c2f19fae7b0f9e8b27ee69b6aca2c4956"
   }
  }
 },
 "nbformat": 4,
 "nbformat_minor": 2
}
